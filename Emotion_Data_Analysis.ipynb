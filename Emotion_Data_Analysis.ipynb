{
  "nbformat": 4,
  "nbformat_minor": 0,
  "metadata": {
    "colab": {
      "provenance": [],
      "authorship_tag": "ABX9TyMVCb9zHpv5mU0ncU/Hghxz",
      "include_colab_link": true
    },
    "kernelspec": {
      "name": "python3",
      "display_name": "Python 3"
    },
    "language_info": {
      "name": "python"
    }
  },
  "cells": [
    {
      "cell_type": "markdown",
      "metadata": {
        "id": "view-in-github",
        "colab_type": "text"
      },
      "source": [
        "<a href=\"https://colab.research.google.com/github/EmodioAI/model-development/blob/main/Emotion_Data_Analysis.ipynb\" target=\"_parent\"><img src=\"https://colab.research.google.com/assets/colab-badge.svg\" alt=\"Open In Colab\"/></a>"
      ]
    },
    {
      "cell_type": "markdown",
      "source": [
        "# **Libraries imports**"
      ],
      "metadata": {
        "id": "XFLBzjEZ6M3d"
      }
    },
    {
      "cell_type": "code",
      "execution_count": 8,
      "metadata": {
        "id": "qWBmOYO65TxI"
      },
      "outputs": [],
      "source": [
        "import numpy as np\n",
        "import pandas as pd\n",
        "import os\n",
        "import matplotlib.pyplot  as plt \n",
        "import shutil"
      ]
    },
    {
      "cell_type": "markdown",
      "source": [
        "# **Loading datasets**"
      ],
      "metadata": {
        "id": "qYE_xgMV6rb8"
      }
    },
    {
      "cell_type": "code",
      "source": [
        "from google.colab import drive\n",
        "drive.mount('/content/drive')"
      ],
      "metadata": {
        "colab": {
          "base_uri": "https://localhost:8080/"
        },
        "id": "nFsQI9jA61aZ",
        "outputId": "f1395424-fc4f-4cda-c13e-c065f721da12"
      },
      "execution_count": null,
      "outputs": [
        {
          "output_type": "stream",
          "name": "stdout",
          "text": [
            "Mounted at /content/drive\n"
          ]
        }
      ]
    },
    {
      "cell_type": "code",
      "source": [
        "# RAVDESS dataset path\n",
        "rav_path = \"/content/drive/MyDrive/Dataset/Emotional Speech Audio/RAVDESS\"\n",
        "\n",
        "# CREMA-D dataset path\n",
        "crema_path = \"/content/drive/MyDrive/Dataset/Emotional Speech Audio/CREMA-D\"\n",
        "\n",
        "# SAVEE dataset path\n",
        "savee_path = \"/content/drive/MyDrive/Dataset/Emotional Speech Audio/SAVEE/AllAudios\""
      ],
      "metadata": {
        "id": "_g7t_2mB7WMc"
      },
      "execution_count": null,
      "outputs": []
    },
    {
      "cell_type": "markdown",
      "source": [
        "# **RAVDESS**"
      ],
      "metadata": {
        "id": "Y8CvesiA8K-P"
      }
    },
    {
      "cell_type": "code",
      "source": [
        "# stimulus characteristics\n",
        "modality =[\"full-AV\", 'video-only', \"audio-only\"]\n",
        "vocal_channel=['speech', 'song']\n",
        "emotion = [ 'neutral', 'calm', 'happy', 'sad', 'angry', 'fearful', 'disgust', 'surprised']\n",
        "emotional_intensity =['normal', 'strong'] \n",
        "statement =[ \"Kids are talking by the door\",  \"Dogs are sitting by the door\"]\n",
        "repetition =[\"1st repetition\",\"2nd repetition\"]\n"
      ],
      "metadata": {
        "id": "xG2FTL7O8R18"
      },
      "execution_count": null,
      "outputs": []
    },
    {
      "cell_type": "code",
      "source": [
        "\n",
        "# create an empty list to store the stimulus characteristics\n",
        "data_list = []\n",
        "\n",
        "# loops through folder for all audio files\n",
        "for fldr in os.listdir(rav_path):\n",
        "    sub_folder_path = os.path.join(rav_path, fldr)\n",
        "    for audio_file in os.listdir(sub_folder_path):\n",
        "        file_path = os.path.join(sub_folder_path, audio_file)\n",
        "\n",
        "        # numerical identifiers for stimulus characters \n",
        "        numerical_identifiers = audio_file.split('.')[0].split('-')\n",
        "\n",
        "        # create a dictionary of stimulus characteristics for this audio file\n",
        "        data_dict = {}\n",
        "        data_dict['file_path']= file_path\n",
        "        data_dict['modality'] = modality[int(numerical_identifiers[0])-1]\n",
        "        data_dict['vocal_channel'] = vocal_channel[int(numerical_identifiers[1])-1]\n",
        "        data_dict['emotion'] = emotion[int(numerical_identifiers[2])-1]\n",
        "        if emotional_intensity[int(numerical_identifiers[3])-1] == 'normal':\n",
        "            data_dict['emotional_intensity'] = 2\n",
        "        else:\n",
        "            data_dict['emotional_intensity'] = 3\n",
        "        data_dict['statement'] = statement[int(numerical_identifiers[4])-1]\n",
        "        data_dict['repetition'] = repetition[int(numerical_identifiers[5])-1]\n",
        "        if int(numerical_identifiers[6]) % 2 ==0:\n",
        "          data_dict['actor'] = 'female'\n",
        "        else:\n",
        "          data_dict['actor'] = 'male'\n",
        "        \n",
        "        # append the dictionary to the list\n",
        "        data_list.append(data_dict)"
      ],
      "metadata": {
        "id": "4py6D07J8Icf"
      },
      "execution_count": null,
      "outputs": []
    },
    {
      "cell_type": "code",
      "source": [
        "rav_dataset = pd.DataFrame(data_list)"
      ],
      "metadata": {
        "id": "UFIUOsef96QE"
      },
      "execution_count": null,
      "outputs": []
    },
    {
      "cell_type": "code",
      "source": [
        "rav_dataset.head(10)"
      ],
      "metadata": {
        "colab": {
          "base_uri": "https://localhost:8080/",
          "height": 581
        },
        "id": "iI3bvwfZ-BOn",
        "outputId": "331bc3e2-b2da-43bb-f65e-3d2f780304e8"
      },
      "execution_count": null,
      "outputs": [
        {
          "output_type": "execute_result",
          "data": {
            "text/plain": [
              "                                           file_path    modality  \\\n",
              "0  /content/drive/MyDrive/Dataset/Emotional Speec...  audio-only   \n",
              "1  /content/drive/MyDrive/Dataset/Emotional Speec...  audio-only   \n",
              "2  /content/drive/MyDrive/Dataset/Emotional Speec...  audio-only   \n",
              "3  /content/drive/MyDrive/Dataset/Emotional Speec...  audio-only   \n",
              "4  /content/drive/MyDrive/Dataset/Emotional Speec...  audio-only   \n",
              "5  /content/drive/MyDrive/Dataset/Emotional Speec...  audio-only   \n",
              "6  /content/drive/MyDrive/Dataset/Emotional Speec...  audio-only   \n",
              "7  /content/drive/MyDrive/Dataset/Emotional Speec...  audio-only   \n",
              "8  /content/drive/MyDrive/Dataset/Emotional Speec...  audio-only   \n",
              "9  /content/drive/MyDrive/Dataset/Emotional Speec...  audio-only   \n",
              "\n",
              "  vocal_channel  emotion  emotional_intensity                     statement  \\\n",
              "0        speech     calm                    3  Kids are talking by the door   \n",
              "1        speech     calm                    3  Kids are talking by the door   \n",
              "2        speech     calm                    3  Dogs are sitting by the door   \n",
              "3        speech    happy                    2  Dogs are sitting by the door   \n",
              "4        speech    happy                    3  Kids are talking by the door   \n",
              "5        speech  neutral                    2  Kids are talking by the door   \n",
              "6        speech     calm                    2  Dogs are sitting by the door   \n",
              "7        speech  neutral                    2  Kids are talking by the door   \n",
              "8        speech    happy                    3  Kids are talking by the door   \n",
              "9        speech    happy                    2  Dogs are sitting by the door   \n",
              "\n",
              "       repetition   actor  \n",
              "0  2nd repetition  female  \n",
              "1  1st repetition  female  \n",
              "2  2nd repetition  female  \n",
              "3  1st repetition  female  \n",
              "4  1st repetition  female  \n",
              "5  2nd repetition  female  \n",
              "6  2nd repetition  female  \n",
              "7  1st repetition  female  \n",
              "8  2nd repetition  female  \n",
              "9  2nd repetition  female  "
            ],
            "text/html": [
              "\n",
              "  <div id=\"df-df1d2d10-22e9-4016-9d38-9500a5ab7a83\">\n",
              "    <div class=\"colab-df-container\">\n",
              "      <div>\n",
              "<style scoped>\n",
              "    .dataframe tbody tr th:only-of-type {\n",
              "        vertical-align: middle;\n",
              "    }\n",
              "\n",
              "    .dataframe tbody tr th {\n",
              "        vertical-align: top;\n",
              "    }\n",
              "\n",
              "    .dataframe thead th {\n",
              "        text-align: right;\n",
              "    }\n",
              "</style>\n",
              "<table border=\"1\" class=\"dataframe\">\n",
              "  <thead>\n",
              "    <tr style=\"text-align: right;\">\n",
              "      <th></th>\n",
              "      <th>file_path</th>\n",
              "      <th>modality</th>\n",
              "      <th>vocal_channel</th>\n",
              "      <th>emotion</th>\n",
              "      <th>emotional_intensity</th>\n",
              "      <th>statement</th>\n",
              "      <th>repetition</th>\n",
              "      <th>actor</th>\n",
              "    </tr>\n",
              "  </thead>\n",
              "  <tbody>\n",
              "    <tr>\n",
              "      <th>0</th>\n",
              "      <td>/content/drive/MyDrive/Dataset/Emotional Speec...</td>\n",
              "      <td>audio-only</td>\n",
              "      <td>speech</td>\n",
              "      <td>calm</td>\n",
              "      <td>3</td>\n",
              "      <td>Kids are talking by the door</td>\n",
              "      <td>2nd repetition</td>\n",
              "      <td>female</td>\n",
              "    </tr>\n",
              "    <tr>\n",
              "      <th>1</th>\n",
              "      <td>/content/drive/MyDrive/Dataset/Emotional Speec...</td>\n",
              "      <td>audio-only</td>\n",
              "      <td>speech</td>\n",
              "      <td>calm</td>\n",
              "      <td>3</td>\n",
              "      <td>Kids are talking by the door</td>\n",
              "      <td>1st repetition</td>\n",
              "      <td>female</td>\n",
              "    </tr>\n",
              "    <tr>\n",
              "      <th>2</th>\n",
              "      <td>/content/drive/MyDrive/Dataset/Emotional Speec...</td>\n",
              "      <td>audio-only</td>\n",
              "      <td>speech</td>\n",
              "      <td>calm</td>\n",
              "      <td>3</td>\n",
              "      <td>Dogs are sitting by the door</td>\n",
              "      <td>2nd repetition</td>\n",
              "      <td>female</td>\n",
              "    </tr>\n",
              "    <tr>\n",
              "      <th>3</th>\n",
              "      <td>/content/drive/MyDrive/Dataset/Emotional Speec...</td>\n",
              "      <td>audio-only</td>\n",
              "      <td>speech</td>\n",
              "      <td>happy</td>\n",
              "      <td>2</td>\n",
              "      <td>Dogs are sitting by the door</td>\n",
              "      <td>1st repetition</td>\n",
              "      <td>female</td>\n",
              "    </tr>\n",
              "    <tr>\n",
              "      <th>4</th>\n",
              "      <td>/content/drive/MyDrive/Dataset/Emotional Speec...</td>\n",
              "      <td>audio-only</td>\n",
              "      <td>speech</td>\n",
              "      <td>happy</td>\n",
              "      <td>3</td>\n",
              "      <td>Kids are talking by the door</td>\n",
              "      <td>1st repetition</td>\n",
              "      <td>female</td>\n",
              "    </tr>\n",
              "    <tr>\n",
              "      <th>5</th>\n",
              "      <td>/content/drive/MyDrive/Dataset/Emotional Speec...</td>\n",
              "      <td>audio-only</td>\n",
              "      <td>speech</td>\n",
              "      <td>neutral</td>\n",
              "      <td>2</td>\n",
              "      <td>Kids are talking by the door</td>\n",
              "      <td>2nd repetition</td>\n",
              "      <td>female</td>\n",
              "    </tr>\n",
              "    <tr>\n",
              "      <th>6</th>\n",
              "      <td>/content/drive/MyDrive/Dataset/Emotional Speec...</td>\n",
              "      <td>audio-only</td>\n",
              "      <td>speech</td>\n",
              "      <td>calm</td>\n",
              "      <td>2</td>\n",
              "      <td>Dogs are sitting by the door</td>\n",
              "      <td>2nd repetition</td>\n",
              "      <td>female</td>\n",
              "    </tr>\n",
              "    <tr>\n",
              "      <th>7</th>\n",
              "      <td>/content/drive/MyDrive/Dataset/Emotional Speec...</td>\n",
              "      <td>audio-only</td>\n",
              "      <td>speech</td>\n",
              "      <td>neutral</td>\n",
              "      <td>2</td>\n",
              "      <td>Kids are talking by the door</td>\n",
              "      <td>1st repetition</td>\n",
              "      <td>female</td>\n",
              "    </tr>\n",
              "    <tr>\n",
              "      <th>8</th>\n",
              "      <td>/content/drive/MyDrive/Dataset/Emotional Speec...</td>\n",
              "      <td>audio-only</td>\n",
              "      <td>speech</td>\n",
              "      <td>happy</td>\n",
              "      <td>3</td>\n",
              "      <td>Kids are talking by the door</td>\n",
              "      <td>2nd repetition</td>\n",
              "      <td>female</td>\n",
              "    </tr>\n",
              "    <tr>\n",
              "      <th>9</th>\n",
              "      <td>/content/drive/MyDrive/Dataset/Emotional Speec...</td>\n",
              "      <td>audio-only</td>\n",
              "      <td>speech</td>\n",
              "      <td>happy</td>\n",
              "      <td>2</td>\n",
              "      <td>Dogs are sitting by the door</td>\n",
              "      <td>2nd repetition</td>\n",
              "      <td>female</td>\n",
              "    </tr>\n",
              "  </tbody>\n",
              "</table>\n",
              "</div>\n",
              "      <button class=\"colab-df-convert\" onclick=\"convertToInteractive('df-df1d2d10-22e9-4016-9d38-9500a5ab7a83')\"\n",
              "              title=\"Convert this dataframe to an interactive table.\"\n",
              "              style=\"display:none;\">\n",
              "        \n",
              "  <svg xmlns=\"http://www.w3.org/2000/svg\" height=\"24px\"viewBox=\"0 0 24 24\"\n",
              "       width=\"24px\">\n",
              "    <path d=\"M0 0h24v24H0V0z\" fill=\"none\"/>\n",
              "    <path d=\"M18.56 5.44l.94 2.06.94-2.06 2.06-.94-2.06-.94-.94-2.06-.94 2.06-2.06.94zm-11 1L8.5 8.5l.94-2.06 2.06-.94-2.06-.94L8.5 2.5l-.94 2.06-2.06.94zm10 10l.94 2.06.94-2.06 2.06-.94-2.06-.94-.94-2.06-.94 2.06-2.06.94z\"/><path d=\"M17.41 7.96l-1.37-1.37c-.4-.4-.92-.59-1.43-.59-.52 0-1.04.2-1.43.59L10.3 9.45l-7.72 7.72c-.78.78-.78 2.05 0 2.83L4 21.41c.39.39.9.59 1.41.59.51 0 1.02-.2 1.41-.59l7.78-7.78 2.81-2.81c.8-.78.8-2.07 0-2.86zM5.41 20L4 18.59l7.72-7.72 1.47 1.35L5.41 20z\"/>\n",
              "  </svg>\n",
              "      </button>\n",
              "      \n",
              "  <style>\n",
              "    .colab-df-container {\n",
              "      display:flex;\n",
              "      flex-wrap:wrap;\n",
              "      gap: 12px;\n",
              "    }\n",
              "\n",
              "    .colab-df-convert {\n",
              "      background-color: #E8F0FE;\n",
              "      border: none;\n",
              "      border-radius: 50%;\n",
              "      cursor: pointer;\n",
              "      display: none;\n",
              "      fill: #1967D2;\n",
              "      height: 32px;\n",
              "      padding: 0 0 0 0;\n",
              "      width: 32px;\n",
              "    }\n",
              "\n",
              "    .colab-df-convert:hover {\n",
              "      background-color: #E2EBFA;\n",
              "      box-shadow: 0px 1px 2px rgba(60, 64, 67, 0.3), 0px 1px 3px 1px rgba(60, 64, 67, 0.15);\n",
              "      fill: #174EA6;\n",
              "    }\n",
              "\n",
              "    [theme=dark] .colab-df-convert {\n",
              "      background-color: #3B4455;\n",
              "      fill: #D2E3FC;\n",
              "    }\n",
              "\n",
              "    [theme=dark] .colab-df-convert:hover {\n",
              "      background-color: #434B5C;\n",
              "      box-shadow: 0px 1px 3px 1px rgba(0, 0, 0, 0.15);\n",
              "      filter: drop-shadow(0px 1px 2px rgba(0, 0, 0, 0.3));\n",
              "      fill: #FFFFFF;\n",
              "    }\n",
              "  </style>\n",
              "\n",
              "      <script>\n",
              "        const buttonEl =\n",
              "          document.querySelector('#df-df1d2d10-22e9-4016-9d38-9500a5ab7a83 button.colab-df-convert');\n",
              "        buttonEl.style.display =\n",
              "          google.colab.kernel.accessAllowed ? 'block' : 'none';\n",
              "\n",
              "        async function convertToInteractive(key) {\n",
              "          const element = document.querySelector('#df-df1d2d10-22e9-4016-9d38-9500a5ab7a83');\n",
              "          const dataTable =\n",
              "            await google.colab.kernel.invokeFunction('convertToInteractive',\n",
              "                                                     [key], {});\n",
              "          if (!dataTable) return;\n",
              "\n",
              "          const docLinkHtml = 'Like what you see? Visit the ' +\n",
              "            '<a target=\"_blank\" href=https://colab.research.google.com/notebooks/data_table.ipynb>data table notebook</a>'\n",
              "            + ' to learn more about interactive tables.';\n",
              "          element.innerHTML = '';\n",
              "          dataTable['output_type'] = 'display_data';\n",
              "          await google.colab.output.renderOutput(dataTable, element);\n",
              "          const docLink = document.createElement('div');\n",
              "          docLink.innerHTML = docLinkHtml;\n",
              "          element.appendChild(docLink);\n",
              "        }\n",
              "      </script>\n",
              "    </div>\n",
              "  </div>\n",
              "  "
            ]
          },
          "metadata": {},
          "execution_count": 12
        }
      ]
    },
    {
      "cell_type": "code",
      "source": [
        "rav_dataset = rav_dataset[['file_path','emotion','emotional_intensity']]\n",
        "rav_dataset"
      ],
      "metadata": {
        "colab": {
          "base_uri": "https://localhost:8080/",
          "height": 424
        },
        "id": "KFtszcYn_5qL",
        "outputId": "bc956382-b858-42e1-897f-b676e8b12c78"
      },
      "execution_count": null,
      "outputs": [
        {
          "output_type": "execute_result",
          "data": {
            "text/plain": [
              "                                              file_path    emotion  \\\n",
              "0     /content/drive/MyDrive/Dataset/Emotional Speec...       calm   \n",
              "1     /content/drive/MyDrive/Dataset/Emotional Speec...       calm   \n",
              "2     /content/drive/MyDrive/Dataset/Emotional Speec...       calm   \n",
              "3     /content/drive/MyDrive/Dataset/Emotional Speec...      happy   \n",
              "4     /content/drive/MyDrive/Dataset/Emotional Speec...      happy   \n",
              "...                                                 ...        ...   \n",
              "1435  /content/drive/MyDrive/Dataset/Emotional Speec...      angry   \n",
              "1436  /content/drive/MyDrive/Dataset/Emotional Speec...    disgust   \n",
              "1437  /content/drive/MyDrive/Dataset/Emotional Speec...    fearful   \n",
              "1438  /content/drive/MyDrive/Dataset/Emotional Speec...  surprised   \n",
              "1439  /content/drive/MyDrive/Dataset/Emotional Speec...    fearful   \n",
              "\n",
              "      emotional_intensity  \n",
              "0                       3  \n",
              "1                       3  \n",
              "2                       3  \n",
              "3                       2  \n",
              "4                       3  \n",
              "...                   ...  \n",
              "1435                    3  \n",
              "1436                    2  \n",
              "1437                    3  \n",
              "1438                    3  \n",
              "1439                    2  \n",
              "\n",
              "[1440 rows x 3 columns]"
            ],
            "text/html": [
              "\n",
              "  <div id=\"df-91a6d79e-b0e9-4b69-8619-4ca830b19aaf\">\n",
              "    <div class=\"colab-df-container\">\n",
              "      <div>\n",
              "<style scoped>\n",
              "    .dataframe tbody tr th:only-of-type {\n",
              "        vertical-align: middle;\n",
              "    }\n",
              "\n",
              "    .dataframe tbody tr th {\n",
              "        vertical-align: top;\n",
              "    }\n",
              "\n",
              "    .dataframe thead th {\n",
              "        text-align: right;\n",
              "    }\n",
              "</style>\n",
              "<table border=\"1\" class=\"dataframe\">\n",
              "  <thead>\n",
              "    <tr style=\"text-align: right;\">\n",
              "      <th></th>\n",
              "      <th>file_path</th>\n",
              "      <th>emotion</th>\n",
              "      <th>emotional_intensity</th>\n",
              "    </tr>\n",
              "  </thead>\n",
              "  <tbody>\n",
              "    <tr>\n",
              "      <th>0</th>\n",
              "      <td>/content/drive/MyDrive/Dataset/Emotional Speec...</td>\n",
              "      <td>calm</td>\n",
              "      <td>3</td>\n",
              "    </tr>\n",
              "    <tr>\n",
              "      <th>1</th>\n",
              "      <td>/content/drive/MyDrive/Dataset/Emotional Speec...</td>\n",
              "      <td>calm</td>\n",
              "      <td>3</td>\n",
              "    </tr>\n",
              "    <tr>\n",
              "      <th>2</th>\n",
              "      <td>/content/drive/MyDrive/Dataset/Emotional Speec...</td>\n",
              "      <td>calm</td>\n",
              "      <td>3</td>\n",
              "    </tr>\n",
              "    <tr>\n",
              "      <th>3</th>\n",
              "      <td>/content/drive/MyDrive/Dataset/Emotional Speec...</td>\n",
              "      <td>happy</td>\n",
              "      <td>2</td>\n",
              "    </tr>\n",
              "    <tr>\n",
              "      <th>4</th>\n",
              "      <td>/content/drive/MyDrive/Dataset/Emotional Speec...</td>\n",
              "      <td>happy</td>\n",
              "      <td>3</td>\n",
              "    </tr>\n",
              "    <tr>\n",
              "      <th>...</th>\n",
              "      <td>...</td>\n",
              "      <td>...</td>\n",
              "      <td>...</td>\n",
              "    </tr>\n",
              "    <tr>\n",
              "      <th>1435</th>\n",
              "      <td>/content/drive/MyDrive/Dataset/Emotional Speec...</td>\n",
              "      <td>angry</td>\n",
              "      <td>3</td>\n",
              "    </tr>\n",
              "    <tr>\n",
              "      <th>1436</th>\n",
              "      <td>/content/drive/MyDrive/Dataset/Emotional Speec...</td>\n",
              "      <td>disgust</td>\n",
              "      <td>2</td>\n",
              "    </tr>\n",
              "    <tr>\n",
              "      <th>1437</th>\n",
              "      <td>/content/drive/MyDrive/Dataset/Emotional Speec...</td>\n",
              "      <td>fearful</td>\n",
              "      <td>3</td>\n",
              "    </tr>\n",
              "    <tr>\n",
              "      <th>1438</th>\n",
              "      <td>/content/drive/MyDrive/Dataset/Emotional Speec...</td>\n",
              "      <td>surprised</td>\n",
              "      <td>3</td>\n",
              "    </tr>\n",
              "    <tr>\n",
              "      <th>1439</th>\n",
              "      <td>/content/drive/MyDrive/Dataset/Emotional Speec...</td>\n",
              "      <td>fearful</td>\n",
              "      <td>2</td>\n",
              "    </tr>\n",
              "  </tbody>\n",
              "</table>\n",
              "<p>1440 rows × 3 columns</p>\n",
              "</div>\n",
              "      <button class=\"colab-df-convert\" onclick=\"convertToInteractive('df-91a6d79e-b0e9-4b69-8619-4ca830b19aaf')\"\n",
              "              title=\"Convert this dataframe to an interactive table.\"\n",
              "              style=\"display:none;\">\n",
              "        \n",
              "  <svg xmlns=\"http://www.w3.org/2000/svg\" height=\"24px\"viewBox=\"0 0 24 24\"\n",
              "       width=\"24px\">\n",
              "    <path d=\"M0 0h24v24H0V0z\" fill=\"none\"/>\n",
              "    <path d=\"M18.56 5.44l.94 2.06.94-2.06 2.06-.94-2.06-.94-.94-2.06-.94 2.06-2.06.94zm-11 1L8.5 8.5l.94-2.06 2.06-.94-2.06-.94L8.5 2.5l-.94 2.06-2.06.94zm10 10l.94 2.06.94-2.06 2.06-.94-2.06-.94-.94-2.06-.94 2.06-2.06.94z\"/><path d=\"M17.41 7.96l-1.37-1.37c-.4-.4-.92-.59-1.43-.59-.52 0-1.04.2-1.43.59L10.3 9.45l-7.72 7.72c-.78.78-.78 2.05 0 2.83L4 21.41c.39.39.9.59 1.41.59.51 0 1.02-.2 1.41-.59l7.78-7.78 2.81-2.81c.8-.78.8-2.07 0-2.86zM5.41 20L4 18.59l7.72-7.72 1.47 1.35L5.41 20z\"/>\n",
              "  </svg>\n",
              "      </button>\n",
              "      \n",
              "  <style>\n",
              "    .colab-df-container {\n",
              "      display:flex;\n",
              "      flex-wrap:wrap;\n",
              "      gap: 12px;\n",
              "    }\n",
              "\n",
              "    .colab-df-convert {\n",
              "      background-color: #E8F0FE;\n",
              "      border: none;\n",
              "      border-radius: 50%;\n",
              "      cursor: pointer;\n",
              "      display: none;\n",
              "      fill: #1967D2;\n",
              "      height: 32px;\n",
              "      padding: 0 0 0 0;\n",
              "      width: 32px;\n",
              "    }\n",
              "\n",
              "    .colab-df-convert:hover {\n",
              "      background-color: #E2EBFA;\n",
              "      box-shadow: 0px 1px 2px rgba(60, 64, 67, 0.3), 0px 1px 3px 1px rgba(60, 64, 67, 0.15);\n",
              "      fill: #174EA6;\n",
              "    }\n",
              "\n",
              "    [theme=dark] .colab-df-convert {\n",
              "      background-color: #3B4455;\n",
              "      fill: #D2E3FC;\n",
              "    }\n",
              "\n",
              "    [theme=dark] .colab-df-convert:hover {\n",
              "      background-color: #434B5C;\n",
              "      box-shadow: 0px 1px 3px 1px rgba(0, 0, 0, 0.15);\n",
              "      filter: drop-shadow(0px 1px 2px rgba(0, 0, 0, 0.3));\n",
              "      fill: #FFFFFF;\n",
              "    }\n",
              "  </style>\n",
              "\n",
              "      <script>\n",
              "        const buttonEl =\n",
              "          document.querySelector('#df-91a6d79e-b0e9-4b69-8619-4ca830b19aaf button.colab-df-convert');\n",
              "        buttonEl.style.display =\n",
              "          google.colab.kernel.accessAllowed ? 'block' : 'none';\n",
              "\n",
              "        async function convertToInteractive(key) {\n",
              "          const element = document.querySelector('#df-91a6d79e-b0e9-4b69-8619-4ca830b19aaf');\n",
              "          const dataTable =\n",
              "            await google.colab.kernel.invokeFunction('convertToInteractive',\n",
              "                                                     [key], {});\n",
              "          if (!dataTable) return;\n",
              "\n",
              "          const docLinkHtml = 'Like what you see? Visit the ' +\n",
              "            '<a target=\"_blank\" href=https://colab.research.google.com/notebooks/data_table.ipynb>data table notebook</a>'\n",
              "            + ' to learn more about interactive tables.';\n",
              "          element.innerHTML = '';\n",
              "          dataTable['output_type'] = 'display_data';\n",
              "          await google.colab.output.renderOutput(dataTable, element);\n",
              "          const docLink = document.createElement('div');\n",
              "          docLink.innerHTML = docLinkHtml;\n",
              "          element.appendChild(docLink);\n",
              "        }\n",
              "      </script>\n",
              "    </div>\n",
              "  </div>\n",
              "  "
            ]
          },
          "metadata": {},
          "execution_count": 14
        }
      ]
    },
    {
      "cell_type": "markdown",
      "source": [
        "# **CREMA-D**"
      ],
      "metadata": {
        "id": "QcAUoAhlAR8J"
      }
    },
    {
      "cell_type": "code",
      "source": [
        "# stimulus characteristics\n",
        "emotion = {'NEU':'neutral','HAP': 'happy', 'SAD':'sad', 'ANG':'angry', 'FEA':'fearful','DIS': 'disgust'}\n",
        "emotional_intensity ={'LO':1, 'MD':2, 'HI':3,'XX':2,'XX (1)':1,'X':1}"
      ],
      "metadata": {
        "id": "-GJ_qPnRAh8k"
      },
      "execution_count": null,
      "outputs": []
    },
    {
      "cell_type": "code",
      "source": [
        "\n",
        "# create an empty list to store files\n",
        "crema_data_list = []\n",
        "\n",
        "# loops through folder for all audio files\n",
        "\n",
        "for audio_file in os.listdir(crema_path):\n",
        "    file_path = os.path.join(crema_path, audio_file)\n",
        "\n",
        "    # identifiers for stimulus characters \n",
        "    identifiers = audio_file.split('.')[0].split('_')\n",
        "    # print(identifiers)\n",
        "\n",
        "    # create a dictionary of stimulus characteristics for this audio file\n",
        "    data_dict = {}\n",
        "    data_dict['file_path']= file_path\n",
        " \n",
        "    data_dict['emotion'] = emotion[identifiers[2]]\n",
        "    data_dict['emotional_intensity'] = emotional_intensity[identifiers[3]]\n",
        "  \n",
        "    \n",
        "    # append the dictionary to the list\n",
        "    crema_data_list.append(data_dict)"
      ],
      "metadata": {
        "id": "TuHQhyYnAWMa"
      },
      "execution_count": null,
      "outputs": []
    },
    {
      "cell_type": "code",
      "source": [
        "crema_dataset = pd.DataFrame(crema_data_list)\n",
        "crema_dataset"
      ],
      "metadata": {
        "colab": {
          "base_uri": "https://localhost:8080/",
          "height": 424
        },
        "id": "Cmlcj0hsEX_8",
        "outputId": "536c090b-5cd8-48c4-8f3b-4ca39d47336c"
      },
      "execution_count": null,
      "outputs": [
        {
          "output_type": "execute_result",
          "data": {
            "text/plain": [
              "                                              file_path  emotion  \\\n",
              "0     /content/drive/MyDrive/Dataset/Emotional Speec...    angry   \n",
              "1     /content/drive/MyDrive/Dataset/Emotional Speec...  fearful   \n",
              "2     /content/drive/MyDrive/Dataset/Emotional Speec...  fearful   \n",
              "3     /content/drive/MyDrive/Dataset/Emotional Speec...    happy   \n",
              "4     /content/drive/MyDrive/Dataset/Emotional Speec...  neutral   \n",
              "...                                                 ...      ...   \n",
              "7438  /content/drive/MyDrive/Dataset/Emotional Speec...    angry   \n",
              "7439  /content/drive/MyDrive/Dataset/Emotional Speec...  fearful   \n",
              "7440  /content/drive/MyDrive/Dataset/Emotional Speec...  disgust   \n",
              "7441  /content/drive/MyDrive/Dataset/Emotional Speec...  neutral   \n",
              "7442  /content/drive/MyDrive/Dataset/Emotional Speec...    happy   \n",
              "\n",
              "      emotional_intensity  \n",
              "0                       2  \n",
              "1                       2  \n",
              "2                       2  \n",
              "3                       2  \n",
              "4                       2  \n",
              "...                   ...  \n",
              "7438                    2  \n",
              "7439                    2  \n",
              "7440                    2  \n",
              "7441                    2  \n",
              "7442                    2  \n",
              "\n",
              "[7443 rows x 3 columns]"
            ],
            "text/html": [
              "\n",
              "  <div id=\"df-2bc7f1a7-6a34-4e6d-923b-7b898f5e2bf0\">\n",
              "    <div class=\"colab-df-container\">\n",
              "      <div>\n",
              "<style scoped>\n",
              "    .dataframe tbody tr th:only-of-type {\n",
              "        vertical-align: middle;\n",
              "    }\n",
              "\n",
              "    .dataframe tbody tr th {\n",
              "        vertical-align: top;\n",
              "    }\n",
              "\n",
              "    .dataframe thead th {\n",
              "        text-align: right;\n",
              "    }\n",
              "</style>\n",
              "<table border=\"1\" class=\"dataframe\">\n",
              "  <thead>\n",
              "    <tr style=\"text-align: right;\">\n",
              "      <th></th>\n",
              "      <th>file_path</th>\n",
              "      <th>emotion</th>\n",
              "      <th>emotional_intensity</th>\n",
              "    </tr>\n",
              "  </thead>\n",
              "  <tbody>\n",
              "    <tr>\n",
              "      <th>0</th>\n",
              "      <td>/content/drive/MyDrive/Dataset/Emotional Speec...</td>\n",
              "      <td>angry</td>\n",
              "      <td>2</td>\n",
              "    </tr>\n",
              "    <tr>\n",
              "      <th>1</th>\n",
              "      <td>/content/drive/MyDrive/Dataset/Emotional Speec...</td>\n",
              "      <td>fearful</td>\n",
              "      <td>2</td>\n",
              "    </tr>\n",
              "    <tr>\n",
              "      <th>2</th>\n",
              "      <td>/content/drive/MyDrive/Dataset/Emotional Speec...</td>\n",
              "      <td>fearful</td>\n",
              "      <td>2</td>\n",
              "    </tr>\n",
              "    <tr>\n",
              "      <th>3</th>\n",
              "      <td>/content/drive/MyDrive/Dataset/Emotional Speec...</td>\n",
              "      <td>happy</td>\n",
              "      <td>2</td>\n",
              "    </tr>\n",
              "    <tr>\n",
              "      <th>4</th>\n",
              "      <td>/content/drive/MyDrive/Dataset/Emotional Speec...</td>\n",
              "      <td>neutral</td>\n",
              "      <td>2</td>\n",
              "    </tr>\n",
              "    <tr>\n",
              "      <th>...</th>\n",
              "      <td>...</td>\n",
              "      <td>...</td>\n",
              "      <td>...</td>\n",
              "    </tr>\n",
              "    <tr>\n",
              "      <th>7438</th>\n",
              "      <td>/content/drive/MyDrive/Dataset/Emotional Speec...</td>\n",
              "      <td>angry</td>\n",
              "      <td>2</td>\n",
              "    </tr>\n",
              "    <tr>\n",
              "      <th>7439</th>\n",
              "      <td>/content/drive/MyDrive/Dataset/Emotional Speec...</td>\n",
              "      <td>fearful</td>\n",
              "      <td>2</td>\n",
              "    </tr>\n",
              "    <tr>\n",
              "      <th>7440</th>\n",
              "      <td>/content/drive/MyDrive/Dataset/Emotional Speec...</td>\n",
              "      <td>disgust</td>\n",
              "      <td>2</td>\n",
              "    </tr>\n",
              "    <tr>\n",
              "      <th>7441</th>\n",
              "      <td>/content/drive/MyDrive/Dataset/Emotional Speec...</td>\n",
              "      <td>neutral</td>\n",
              "      <td>2</td>\n",
              "    </tr>\n",
              "    <tr>\n",
              "      <th>7442</th>\n",
              "      <td>/content/drive/MyDrive/Dataset/Emotional Speec...</td>\n",
              "      <td>happy</td>\n",
              "      <td>2</td>\n",
              "    </tr>\n",
              "  </tbody>\n",
              "</table>\n",
              "<p>7443 rows × 3 columns</p>\n",
              "</div>\n",
              "      <button class=\"colab-df-convert\" onclick=\"convertToInteractive('df-2bc7f1a7-6a34-4e6d-923b-7b898f5e2bf0')\"\n",
              "              title=\"Convert this dataframe to an interactive table.\"\n",
              "              style=\"display:none;\">\n",
              "        \n",
              "  <svg xmlns=\"http://www.w3.org/2000/svg\" height=\"24px\"viewBox=\"0 0 24 24\"\n",
              "       width=\"24px\">\n",
              "    <path d=\"M0 0h24v24H0V0z\" fill=\"none\"/>\n",
              "    <path d=\"M18.56 5.44l.94 2.06.94-2.06 2.06-.94-2.06-.94-.94-2.06-.94 2.06-2.06.94zm-11 1L8.5 8.5l.94-2.06 2.06-.94-2.06-.94L8.5 2.5l-.94 2.06-2.06.94zm10 10l.94 2.06.94-2.06 2.06-.94-2.06-.94-.94-2.06-.94 2.06-2.06.94z\"/><path d=\"M17.41 7.96l-1.37-1.37c-.4-.4-.92-.59-1.43-.59-.52 0-1.04.2-1.43.59L10.3 9.45l-7.72 7.72c-.78.78-.78 2.05 0 2.83L4 21.41c.39.39.9.59 1.41.59.51 0 1.02-.2 1.41-.59l7.78-7.78 2.81-2.81c.8-.78.8-2.07 0-2.86zM5.41 20L4 18.59l7.72-7.72 1.47 1.35L5.41 20z\"/>\n",
              "  </svg>\n",
              "      </button>\n",
              "      \n",
              "  <style>\n",
              "    .colab-df-container {\n",
              "      display:flex;\n",
              "      flex-wrap:wrap;\n",
              "      gap: 12px;\n",
              "    }\n",
              "\n",
              "    .colab-df-convert {\n",
              "      background-color: #E8F0FE;\n",
              "      border: none;\n",
              "      border-radius: 50%;\n",
              "      cursor: pointer;\n",
              "      display: none;\n",
              "      fill: #1967D2;\n",
              "      height: 32px;\n",
              "      padding: 0 0 0 0;\n",
              "      width: 32px;\n",
              "    }\n",
              "\n",
              "    .colab-df-convert:hover {\n",
              "      background-color: #E2EBFA;\n",
              "      box-shadow: 0px 1px 2px rgba(60, 64, 67, 0.3), 0px 1px 3px 1px rgba(60, 64, 67, 0.15);\n",
              "      fill: #174EA6;\n",
              "    }\n",
              "\n",
              "    [theme=dark] .colab-df-convert {\n",
              "      background-color: #3B4455;\n",
              "      fill: #D2E3FC;\n",
              "    }\n",
              "\n",
              "    [theme=dark] .colab-df-convert:hover {\n",
              "      background-color: #434B5C;\n",
              "      box-shadow: 0px 1px 3px 1px rgba(0, 0, 0, 0.15);\n",
              "      filter: drop-shadow(0px 1px 2px rgba(0, 0, 0, 0.3));\n",
              "      fill: #FFFFFF;\n",
              "    }\n",
              "  </style>\n",
              "\n",
              "      <script>\n",
              "        const buttonEl =\n",
              "          document.querySelector('#df-2bc7f1a7-6a34-4e6d-923b-7b898f5e2bf0 button.colab-df-convert');\n",
              "        buttonEl.style.display =\n",
              "          google.colab.kernel.accessAllowed ? 'block' : 'none';\n",
              "\n",
              "        async function convertToInteractive(key) {\n",
              "          const element = document.querySelector('#df-2bc7f1a7-6a34-4e6d-923b-7b898f5e2bf0');\n",
              "          const dataTable =\n",
              "            await google.colab.kernel.invokeFunction('convertToInteractive',\n",
              "                                                     [key], {});\n",
              "          if (!dataTable) return;\n",
              "\n",
              "          const docLinkHtml = 'Like what you see? Visit the ' +\n",
              "            '<a target=\"_blank\" href=https://colab.research.google.com/notebooks/data_table.ipynb>data table notebook</a>'\n",
              "            + ' to learn more about interactive tables.';\n",
              "          element.innerHTML = '';\n",
              "          dataTable['output_type'] = 'display_data';\n",
              "          await google.colab.output.renderOutput(dataTable, element);\n",
              "          const docLink = document.createElement('div');\n",
              "          docLink.innerHTML = docLinkHtml;\n",
              "          element.appendChild(docLink);\n",
              "        }\n",
              "      </script>\n",
              "    </div>\n",
              "  </div>\n",
              "  "
            ]
          },
          "metadata": {},
          "execution_count": 31
        }
      ]
    },
    {
      "cell_type": "markdown",
      "source": [
        "# **SAVEE**"
      ],
      "metadata": {
        "id": "LBMWUFD1GTZK"
      }
    },
    {
      "cell_type": "code",
      "source": [
        "# stimulus characteristics\n",
        "emotion = {'n':'neutral', 'h':'happy', 'sa':'sad', 'a':'angry','f': 'fearful', 'd':'disgust','su': 'surprised'}"
      ],
      "metadata": {
        "id": "ZDHLUelYFskP"
      },
      "execution_count": null,
      "outputs": []
    },
    {
      "cell_type": "code",
      "source": [
        "\n",
        "# create an empty list to store the stimulus characteristics\n",
        "savee_data_list = []\n",
        "\n",
        "# loops through folder for all audio files\n",
        "for fldr in os.listdir(savee_path):\n",
        "    sub_folder_path = os.path.join(savee_path, fldr)\n",
        "    for audio_file in os.listdir(sub_folder_path):\n",
        "        file_path = os.path.join(sub_folder_path, audio_file)\n",
        "\n",
        "        # numerical identifiers for stimulus characters \n",
        "        identifiers = list(audio_file.split('.')[0])\n",
        "\n",
        "        # create a dictionary of stimulus characteristics for this audio file\n",
        "        data_dict = {}\n",
        "  \n",
        "        data_dict['file_path']=file_path\n",
        "        data_dict['emotion'] = emotion[\"\".join(identifiers[:-2])]\n",
        "        data_dict['emotional_intensity'] = 2\n",
        "\n",
        "        # append the dictionary to the list\n",
        "        savee_data_list.append(data_dict)"
      ],
      "metadata": {
        "id": "fZ48EQInHC-O"
      },
      "execution_count": null,
      "outputs": []
    },
    {
      "cell_type": "code",
      "source": [
        "savee_dataset = pd.DataFrame(savee_data_list)\n",
        "savee_dataset"
      ],
      "metadata": {
        "colab": {
          "base_uri": "https://localhost:8080/",
          "height": 424
        },
        "id": "8wL-bAtRIl-O",
        "outputId": "85e8b15d-be22-4a88-b685-6ad20183c026"
      },
      "execution_count": null,
      "outputs": [
        {
          "output_type": "execute_result",
          "data": {
            "text/plain": [
              "                                             file_path  emotion  \\\n",
              "0    /content/drive/MyDrive/Dataset/Emotional Speec...    angry   \n",
              "1    /content/drive/MyDrive/Dataset/Emotional Speec...    angry   \n",
              "2    /content/drive/MyDrive/Dataset/Emotional Speec...    angry   \n",
              "3    /content/drive/MyDrive/Dataset/Emotional Speec...    angry   \n",
              "4    /content/drive/MyDrive/Dataset/Emotional Speec...    angry   \n",
              "..                                                 ...      ...   \n",
              "475  /content/drive/MyDrive/Dataset/Emotional Speec...  neutral   \n",
              "476  /content/drive/MyDrive/Dataset/Emotional Speec...  neutral   \n",
              "477  /content/drive/MyDrive/Dataset/Emotional Speec...  neutral   \n",
              "478  /content/drive/MyDrive/Dataset/Emotional Speec...  neutral   \n",
              "479  /content/drive/MyDrive/Dataset/Emotional Speec...  neutral   \n",
              "\n",
              "     emotional_intensity  \n",
              "0                      2  \n",
              "1                      2  \n",
              "2                      2  \n",
              "3                      2  \n",
              "4                      2  \n",
              "..                   ...  \n",
              "475                    2  \n",
              "476                    2  \n",
              "477                    2  \n",
              "478                    2  \n",
              "479                    2  \n",
              "\n",
              "[480 rows x 3 columns]"
            ],
            "text/html": [
              "\n",
              "  <div id=\"df-65453384-b922-46dd-90e8-51cb2a525a2d\">\n",
              "    <div class=\"colab-df-container\">\n",
              "      <div>\n",
              "<style scoped>\n",
              "    .dataframe tbody tr th:only-of-type {\n",
              "        vertical-align: middle;\n",
              "    }\n",
              "\n",
              "    .dataframe tbody tr th {\n",
              "        vertical-align: top;\n",
              "    }\n",
              "\n",
              "    .dataframe thead th {\n",
              "        text-align: right;\n",
              "    }\n",
              "</style>\n",
              "<table border=\"1\" class=\"dataframe\">\n",
              "  <thead>\n",
              "    <tr style=\"text-align: right;\">\n",
              "      <th></th>\n",
              "      <th>file_path</th>\n",
              "      <th>emotion</th>\n",
              "      <th>emotional_intensity</th>\n",
              "    </tr>\n",
              "  </thead>\n",
              "  <tbody>\n",
              "    <tr>\n",
              "      <th>0</th>\n",
              "      <td>/content/drive/MyDrive/Dataset/Emotional Speec...</td>\n",
              "      <td>angry</td>\n",
              "      <td>2</td>\n",
              "    </tr>\n",
              "    <tr>\n",
              "      <th>1</th>\n",
              "      <td>/content/drive/MyDrive/Dataset/Emotional Speec...</td>\n",
              "      <td>angry</td>\n",
              "      <td>2</td>\n",
              "    </tr>\n",
              "    <tr>\n",
              "      <th>2</th>\n",
              "      <td>/content/drive/MyDrive/Dataset/Emotional Speec...</td>\n",
              "      <td>angry</td>\n",
              "      <td>2</td>\n",
              "    </tr>\n",
              "    <tr>\n",
              "      <th>3</th>\n",
              "      <td>/content/drive/MyDrive/Dataset/Emotional Speec...</td>\n",
              "      <td>angry</td>\n",
              "      <td>2</td>\n",
              "    </tr>\n",
              "    <tr>\n",
              "      <th>4</th>\n",
              "      <td>/content/drive/MyDrive/Dataset/Emotional Speec...</td>\n",
              "      <td>angry</td>\n",
              "      <td>2</td>\n",
              "    </tr>\n",
              "    <tr>\n",
              "      <th>...</th>\n",
              "      <td>...</td>\n",
              "      <td>...</td>\n",
              "      <td>...</td>\n",
              "    </tr>\n",
              "    <tr>\n",
              "      <th>475</th>\n",
              "      <td>/content/drive/MyDrive/Dataset/Emotional Speec...</td>\n",
              "      <td>neutral</td>\n",
              "      <td>2</td>\n",
              "    </tr>\n",
              "    <tr>\n",
              "      <th>476</th>\n",
              "      <td>/content/drive/MyDrive/Dataset/Emotional Speec...</td>\n",
              "      <td>neutral</td>\n",
              "      <td>2</td>\n",
              "    </tr>\n",
              "    <tr>\n",
              "      <th>477</th>\n",
              "      <td>/content/drive/MyDrive/Dataset/Emotional Speec...</td>\n",
              "      <td>neutral</td>\n",
              "      <td>2</td>\n",
              "    </tr>\n",
              "    <tr>\n",
              "      <th>478</th>\n",
              "      <td>/content/drive/MyDrive/Dataset/Emotional Speec...</td>\n",
              "      <td>neutral</td>\n",
              "      <td>2</td>\n",
              "    </tr>\n",
              "    <tr>\n",
              "      <th>479</th>\n",
              "      <td>/content/drive/MyDrive/Dataset/Emotional Speec...</td>\n",
              "      <td>neutral</td>\n",
              "      <td>2</td>\n",
              "    </tr>\n",
              "  </tbody>\n",
              "</table>\n",
              "<p>480 rows × 3 columns</p>\n",
              "</div>\n",
              "      <button class=\"colab-df-convert\" onclick=\"convertToInteractive('df-65453384-b922-46dd-90e8-51cb2a525a2d')\"\n",
              "              title=\"Convert this dataframe to an interactive table.\"\n",
              "              style=\"display:none;\">\n",
              "        \n",
              "  <svg xmlns=\"http://www.w3.org/2000/svg\" height=\"24px\"viewBox=\"0 0 24 24\"\n",
              "       width=\"24px\">\n",
              "    <path d=\"M0 0h24v24H0V0z\" fill=\"none\"/>\n",
              "    <path d=\"M18.56 5.44l.94 2.06.94-2.06 2.06-.94-2.06-.94-.94-2.06-.94 2.06-2.06.94zm-11 1L8.5 8.5l.94-2.06 2.06-.94-2.06-.94L8.5 2.5l-.94 2.06-2.06.94zm10 10l.94 2.06.94-2.06 2.06-.94-2.06-.94-.94-2.06-.94 2.06-2.06.94z\"/><path d=\"M17.41 7.96l-1.37-1.37c-.4-.4-.92-.59-1.43-.59-.52 0-1.04.2-1.43.59L10.3 9.45l-7.72 7.72c-.78.78-.78 2.05 0 2.83L4 21.41c.39.39.9.59 1.41.59.51 0 1.02-.2 1.41-.59l7.78-7.78 2.81-2.81c.8-.78.8-2.07 0-2.86zM5.41 20L4 18.59l7.72-7.72 1.47 1.35L5.41 20z\"/>\n",
              "  </svg>\n",
              "      </button>\n",
              "      \n",
              "  <style>\n",
              "    .colab-df-container {\n",
              "      display:flex;\n",
              "      flex-wrap:wrap;\n",
              "      gap: 12px;\n",
              "    }\n",
              "\n",
              "    .colab-df-convert {\n",
              "      background-color: #E8F0FE;\n",
              "      border: none;\n",
              "      border-radius: 50%;\n",
              "      cursor: pointer;\n",
              "      display: none;\n",
              "      fill: #1967D2;\n",
              "      height: 32px;\n",
              "      padding: 0 0 0 0;\n",
              "      width: 32px;\n",
              "    }\n",
              "\n",
              "    .colab-df-convert:hover {\n",
              "      background-color: #E2EBFA;\n",
              "      box-shadow: 0px 1px 2px rgba(60, 64, 67, 0.3), 0px 1px 3px 1px rgba(60, 64, 67, 0.15);\n",
              "      fill: #174EA6;\n",
              "    }\n",
              "\n",
              "    [theme=dark] .colab-df-convert {\n",
              "      background-color: #3B4455;\n",
              "      fill: #D2E3FC;\n",
              "    }\n",
              "\n",
              "    [theme=dark] .colab-df-convert:hover {\n",
              "      background-color: #434B5C;\n",
              "      box-shadow: 0px 1px 3px 1px rgba(0, 0, 0, 0.15);\n",
              "      filter: drop-shadow(0px 1px 2px rgba(0, 0, 0, 0.3));\n",
              "      fill: #FFFFFF;\n",
              "    }\n",
              "  </style>\n",
              "\n",
              "      <script>\n",
              "        const buttonEl =\n",
              "          document.querySelector('#df-65453384-b922-46dd-90e8-51cb2a525a2d button.colab-df-convert');\n",
              "        buttonEl.style.display =\n",
              "          google.colab.kernel.accessAllowed ? 'block' : 'none';\n",
              "\n",
              "        async function convertToInteractive(key) {\n",
              "          const element = document.querySelector('#df-65453384-b922-46dd-90e8-51cb2a525a2d');\n",
              "          const dataTable =\n",
              "            await google.colab.kernel.invokeFunction('convertToInteractive',\n",
              "                                                     [key], {});\n",
              "          if (!dataTable) return;\n",
              "\n",
              "          const docLinkHtml = 'Like what you see? Visit the ' +\n",
              "            '<a target=\"_blank\" href=https://colab.research.google.com/notebooks/data_table.ipynb>data table notebook</a>'\n",
              "            + ' to learn more about interactive tables.';\n",
              "          element.innerHTML = '';\n",
              "          dataTable['output_type'] = 'display_data';\n",
              "          await google.colab.output.renderOutput(dataTable, element);\n",
              "          const docLink = document.createElement('div');\n",
              "          docLink.innerHTML = docLinkHtml;\n",
              "          element.appendChild(docLink);\n",
              "        }\n",
              "      </script>\n",
              "    </div>\n",
              "  </div>\n",
              "  "
            ]
          },
          "metadata": {},
          "execution_count": 45
        }
      ]
    },
    {
      "cell_type": "markdown",
      "source": [
        "# **Dataset Combination**"
      ],
      "metadata": {
        "id": "D4STAtm5LBp2"
      }
    },
    {
      "cell_type": "code",
      "source": [
        "dataset = pd.concat([rav_dataset,crema_dataset,savee_dataset],ignore_index=True)"
      ],
      "metadata": {
        "id": "Fffk5B_ULBS7"
      },
      "execution_count": null,
      "outputs": []
    },
    {
      "cell_type": "code",
      "source": [
        "dataset.tail()"
      ],
      "metadata": {
        "colab": {
          "base_uri": "https://localhost:8080/",
          "height": 206
        },
        "id": "5-KdWXVML_Av",
        "outputId": "56e1c160-e05a-4b8c-94a3-9f9f3e73b34a"
      },
      "execution_count": null,
      "outputs": [
        {
          "output_type": "execute_result",
          "data": {
            "text/plain": [
              "                                              file_path  emotion  \\\n",
              "9358  /content/drive/MyDrive/Dataset/Emotional Speec...  neutral   \n",
              "9359  /content/drive/MyDrive/Dataset/Emotional Speec...  neutral   \n",
              "9360  /content/drive/MyDrive/Dataset/Emotional Speec...  neutral   \n",
              "9361  /content/drive/MyDrive/Dataset/Emotional Speec...  neutral   \n",
              "9362  /content/drive/MyDrive/Dataset/Emotional Speec...  neutral   \n",
              "\n",
              "      emotional_intensity  \n",
              "9358                    2  \n",
              "9359                    2  \n",
              "9360                    2  \n",
              "9361                    2  \n",
              "9362                    2  "
            ],
            "text/html": [
              "\n",
              "  <div id=\"df-06c3529d-81d3-48ca-8d1f-845c3d0034c7\">\n",
              "    <div class=\"colab-df-container\">\n",
              "      <div>\n",
              "<style scoped>\n",
              "    .dataframe tbody tr th:only-of-type {\n",
              "        vertical-align: middle;\n",
              "    }\n",
              "\n",
              "    .dataframe tbody tr th {\n",
              "        vertical-align: top;\n",
              "    }\n",
              "\n",
              "    .dataframe thead th {\n",
              "        text-align: right;\n",
              "    }\n",
              "</style>\n",
              "<table border=\"1\" class=\"dataframe\">\n",
              "  <thead>\n",
              "    <tr style=\"text-align: right;\">\n",
              "      <th></th>\n",
              "      <th>file_path</th>\n",
              "      <th>emotion</th>\n",
              "      <th>emotional_intensity</th>\n",
              "    </tr>\n",
              "  </thead>\n",
              "  <tbody>\n",
              "    <tr>\n",
              "      <th>9358</th>\n",
              "      <td>/content/drive/MyDrive/Dataset/Emotional Speec...</td>\n",
              "      <td>neutral</td>\n",
              "      <td>2</td>\n",
              "    </tr>\n",
              "    <tr>\n",
              "      <th>9359</th>\n",
              "      <td>/content/drive/MyDrive/Dataset/Emotional Speec...</td>\n",
              "      <td>neutral</td>\n",
              "      <td>2</td>\n",
              "    </tr>\n",
              "    <tr>\n",
              "      <th>9360</th>\n",
              "      <td>/content/drive/MyDrive/Dataset/Emotional Speec...</td>\n",
              "      <td>neutral</td>\n",
              "      <td>2</td>\n",
              "    </tr>\n",
              "    <tr>\n",
              "      <th>9361</th>\n",
              "      <td>/content/drive/MyDrive/Dataset/Emotional Speec...</td>\n",
              "      <td>neutral</td>\n",
              "      <td>2</td>\n",
              "    </tr>\n",
              "    <tr>\n",
              "      <th>9362</th>\n",
              "      <td>/content/drive/MyDrive/Dataset/Emotional Speec...</td>\n",
              "      <td>neutral</td>\n",
              "      <td>2</td>\n",
              "    </tr>\n",
              "  </tbody>\n",
              "</table>\n",
              "</div>\n",
              "      <button class=\"colab-df-convert\" onclick=\"convertToInteractive('df-06c3529d-81d3-48ca-8d1f-845c3d0034c7')\"\n",
              "              title=\"Convert this dataframe to an interactive table.\"\n",
              "              style=\"display:none;\">\n",
              "        \n",
              "  <svg xmlns=\"http://www.w3.org/2000/svg\" height=\"24px\"viewBox=\"0 0 24 24\"\n",
              "       width=\"24px\">\n",
              "    <path d=\"M0 0h24v24H0V0z\" fill=\"none\"/>\n",
              "    <path d=\"M18.56 5.44l.94 2.06.94-2.06 2.06-.94-2.06-.94-.94-2.06-.94 2.06-2.06.94zm-11 1L8.5 8.5l.94-2.06 2.06-.94-2.06-.94L8.5 2.5l-.94 2.06-2.06.94zm10 10l.94 2.06.94-2.06 2.06-.94-2.06-.94-.94-2.06-.94 2.06-2.06.94z\"/><path d=\"M17.41 7.96l-1.37-1.37c-.4-.4-.92-.59-1.43-.59-.52 0-1.04.2-1.43.59L10.3 9.45l-7.72 7.72c-.78.78-.78 2.05 0 2.83L4 21.41c.39.39.9.59 1.41.59.51 0 1.02-.2 1.41-.59l7.78-7.78 2.81-2.81c.8-.78.8-2.07 0-2.86zM5.41 20L4 18.59l7.72-7.72 1.47 1.35L5.41 20z\"/>\n",
              "  </svg>\n",
              "      </button>\n",
              "      \n",
              "  <style>\n",
              "    .colab-df-container {\n",
              "      display:flex;\n",
              "      flex-wrap:wrap;\n",
              "      gap: 12px;\n",
              "    }\n",
              "\n",
              "    .colab-df-convert {\n",
              "      background-color: #E8F0FE;\n",
              "      border: none;\n",
              "      border-radius: 50%;\n",
              "      cursor: pointer;\n",
              "      display: none;\n",
              "      fill: #1967D2;\n",
              "      height: 32px;\n",
              "      padding: 0 0 0 0;\n",
              "      width: 32px;\n",
              "    }\n",
              "\n",
              "    .colab-df-convert:hover {\n",
              "      background-color: #E2EBFA;\n",
              "      box-shadow: 0px 1px 2px rgba(60, 64, 67, 0.3), 0px 1px 3px 1px rgba(60, 64, 67, 0.15);\n",
              "      fill: #174EA6;\n",
              "    }\n",
              "\n",
              "    [theme=dark] .colab-df-convert {\n",
              "      background-color: #3B4455;\n",
              "      fill: #D2E3FC;\n",
              "    }\n",
              "\n",
              "    [theme=dark] .colab-df-convert:hover {\n",
              "      background-color: #434B5C;\n",
              "      box-shadow: 0px 1px 3px 1px rgba(0, 0, 0, 0.15);\n",
              "      filter: drop-shadow(0px 1px 2px rgba(0, 0, 0, 0.3));\n",
              "      fill: #FFFFFF;\n",
              "    }\n",
              "  </style>\n",
              "\n",
              "      <script>\n",
              "        const buttonEl =\n",
              "          document.querySelector('#df-06c3529d-81d3-48ca-8d1f-845c3d0034c7 button.colab-df-convert');\n",
              "        buttonEl.style.display =\n",
              "          google.colab.kernel.accessAllowed ? 'block' : 'none';\n",
              "\n",
              "        async function convertToInteractive(key) {\n",
              "          const element = document.querySelector('#df-06c3529d-81d3-48ca-8d1f-845c3d0034c7');\n",
              "          const dataTable =\n",
              "            await google.colab.kernel.invokeFunction('convertToInteractive',\n",
              "                                                     [key], {});\n",
              "          if (!dataTable) return;\n",
              "\n",
              "          const docLinkHtml = 'Like what you see? Visit the ' +\n",
              "            '<a target=\"_blank\" href=https://colab.research.google.com/notebooks/data_table.ipynb>data table notebook</a>'\n",
              "            + ' to learn more about interactive tables.';\n",
              "          element.innerHTML = '';\n",
              "          dataTable['output_type'] = 'display_data';\n",
              "          await google.colab.output.renderOutput(dataTable, element);\n",
              "          const docLink = document.createElement('div');\n",
              "          docLink.innerHTML = docLinkHtml;\n",
              "          element.appendChild(docLink);\n",
              "        }\n",
              "      </script>\n",
              "    </div>\n",
              "  </div>\n",
              "  "
            ]
          },
          "metadata": {},
          "execution_count": 58
        }
      ]
    },
    {
      "cell_type": "code",
      "source": [
        "dataset.info()"
      ],
      "metadata": {
        "colab": {
          "base_uri": "https://localhost:8080/"
        },
        "id": "OML9D5vaLAga",
        "outputId": "7bcc9323-9a64-4aa7-b44d-8289df5e9ca6"
      },
      "execution_count": null,
      "outputs": [
        {
          "output_type": "stream",
          "name": "stdout",
          "text": [
            "<class 'pandas.core.frame.DataFrame'>\n",
            "RangeIndex: 9363 entries, 0 to 9362\n",
            "Data columns (total 3 columns):\n",
            " #   Column               Non-Null Count  Dtype \n",
            "---  ------               --------------  ----- \n",
            " 0   file_path            9363 non-null   object\n",
            " 1   emotion              9363 non-null   object\n",
            " 2   emotional_intensity  9363 non-null   int64 \n",
            "dtypes: int64(1), object(2)\n",
            "memory usage: 219.6+ KB\n"
          ]
        }
      ]
    },
    {
      "cell_type": "code",
      "source": [
        "# saving dataset\n",
        "dataset.to_csv('data.csv')"
      ],
      "metadata": {
        "id": "FQ0XPIDdMyaW"
      },
      "execution_count": null,
      "outputs": []
    },
    {
      "cell_type": "markdown",
      "source": [
        "# **Dataset Exploration**"
      ],
      "metadata": {
        "id": "ALec9ToONY-i"
      }
    },
    {
      "cell_type": "code",
      "source": [
        "# Plotting the pie chart for above dataframe\n",
        "pie_chart=dataset.groupby(['emotion']).count().plot(kind='pie', y=0, autopct='%1.0f%%',figsize=(10,10))"
      ],
      "metadata": {
        "colab": {
          "base_uri": "https://localhost:8080/",
          "height": 807
        },
        "id": "9to8JiSpK_oT",
        "outputId": "086f4a4b-6f38-4bb9-8314-abab65c0148e"
      },
      "execution_count": null,
      "outputs": [
        {
          "output_type": "display_data",
          "data": {
            "text/plain": [
              "<Figure size 1000x1000 with 1 Axes>"
            ],
            "image/png": "[encoded data removed]"
          },
          "metadata": {}
        }
      ]
    },
    {
      "cell_type": "code",
      "source": [
        "fig = pie_chart.get_figure()\n",
        "fig.savefig(\"emotions_pie_chart.jpg\")"
      ],
      "metadata": {
        "id": "vLhVwdl0QmGH"
      },
      "execution_count": null,
      "outputs": []
    },
    {
      "cell_type": "code",
      "source": [
        "# count emotional intensity\n",
        "value_counts = dataset['emotional_intensity'].value_counts()\n",
        "\n",
        "# Plot the data\n",
        "ax = value_counts.plot(kind='bar')\n",
        "\n",
        "# Add titles and labels\n",
        "ax.set_title('Frequency of emotional intensities')\n",
        "ax.set_xlabel('Labels')\n",
        "ax.set_ylabel('Frequency')\n",
        "\n",
        "# save plot\n",
        "plt.savefig('emotional_intensity_bar_plot.jpg')\n",
        "\n",
        "# Display the plot\n",
        "plt.show()\n",
        "\n"
      ],
      "metadata": {
        "colab": {
          "base_uri": "https://localhost:8080/",
          "height": 467
        },
        "id": "V0KOQnEzJdY2",
        "outputId": "2e0af399-7e70-48a8-981e-367c217dcfcf"
      },
      "execution_count": null,
      "outputs": [
        {
          "output_type": "display_data",
          "data": {
            "text/plain": [
              "<Figure size 640x480 with 1 Axes>"
            ],
            "image/png": "[encoded data removed]"
          },
          "metadata": {}
        }
      ]
    },
    {
      "cell_type": "code",
      "source": [
        "from google.colab import drive\n",
        "drive.mount('/content/drive')"
      ],
      "metadata": {
        "colab": {
          "base_uri": "https://localhost:8080/"
        },
        "id": "Y0qMQlBTQMTD",
        "outputId": "08af3e01-5aa9-494c-89ef-5e5f364af8be"
      },
      "execution_count": 1,
      "outputs": [
        {
          "output_type": "stream",
          "name": "stdout",
          "text": [
            "Mounted at /content/drive\n"
          ]
        }
      ]
    },
    {
      "cell_type": "markdown",
      "source": [
        "# **Audio Separation**"
      ],
      "metadata": {
        "id": "qFntcCFXSKZA"
      }
    },
    {
      "cell_type": "code",
      "source": [
        "data = pd.read_csv('data.csv')"
      ],
      "metadata": {
        "id": "gUmyJVGIQc5H"
      },
      "execution_count": 4,
      "outputs": []
    },
    {
      "cell_type": "code",
      "source": [
        "data['emotion'].unique()"
      ],
      "metadata": {
        "colab": {
          "base_uri": "https://localhost:8080/"
        },
        "id": "xNNRhuDkQ-VU",
        "outputId": "479520ee-0d4f-4d1a-9e08-0ffa652e711a"
      },
      "execution_count": 7,
      "outputs": [
        {
          "output_type": "execute_result",
          "data": {
            "text/plain": [
              "array(['calm', 'happy', 'neutral', 'angry', 'surprised', 'disgust', 'sad',\n",
              "       'fearful'], dtype=object)"
            ]
          },
          "metadata": {},
          "execution_count": 7
        }
      ]
    },
    {
      "cell_type": "code",
      "source": [
        "base_folder_path ='/content/drive/MyDrive/Dataset/Emotional Speech Audio/Audios'\n",
        "os.mkdir(base_folder_path)"
      ],
      "metadata": {
        "id": "IuotV2wERsy4"
      },
      "execution_count": 9,
      "outputs": []
    },
    {
      "cell_type": "code",
      "source": [
        "for emotion in data['emotion'].unique():\n",
        "  emotion_audio_path = f'{base_folder_path}/{emotion}'\n",
        "  os.mkdir(emotion_audio_path)\n",
        "  emotion_files_path = data.loc[data[\"emotion\"] == emotion, \"file_path\"].tolist()\n",
        "\n",
        "  for index,path in enumerate(emotion_files_path):\n",
        "    shutil.copyfile(path, os.path.join(emotion_audio_path, f'{emotion}_{index}'))\n",
        "\n",
        "  print(emotion,' copy done')"
      ],
      "metadata": {
        "colab": {
          "base_uri": "https://localhost:8080/"
        },
        "id": "AYSNPhMkSVTd",
        "outputId": "555fa2f9-c9af-4134-debc-971ea0b8a8ac"
      },
      "execution_count": 15,
      "outputs": [
        {
          "output_type": "stream",
          "name": "stdout",
          "text": [
            "calm  copy done\n",
            "happy  copy done\n",
            "neutral  copy done\n",
            "angry  copy done\n",
            "surprised  copy done\n",
            "disgust  copy done\n",
            "sad  copy done\n",
            "fearful  copy done\n"
          ]
        }
      ]
    }
  ]
}