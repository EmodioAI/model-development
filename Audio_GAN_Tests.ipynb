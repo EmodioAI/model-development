{
  "cells": [
    {
      "cell_type": "markdown",
      "metadata": {
        "id": "view-in-github",
        "colab_type": "text"
      },
      "source": [
        "<a href=\"https://colab.research.google.com/github/EmodioAI/model-development/blob/main/Audio_GAN_Tests.ipynb\" target=\"_parent\"><img src=\"https://colab.research.google.com/assets/colab-badge.svg\" alt=\"Open In Colab\"/></a>"
      ]
    },
    {
      "cell_type": "markdown",
      "metadata": {
        "id": "TQxLzFrE3_9m"
      },
      "source": [
        "# **Load Repository**"
      ]
    },
    {
      "cell_type": "code",
      "execution_count": 1,
      "metadata": {
        "colab": {
          "base_uri": "https://localhost:8080/"
        },
        "id": "a5aMH_AtKG3l",
        "outputId": "32a1e9f0-4931-4bb8-dd8e-5a24972435e2"
      },
      "outputs": [
        {
          "output_type": "stream",
          "name": "stdout",
          "text": [
            "Cloning into 'Audio-Synthesis-CycleGAN'...\n",
            "remote: Enumerating objects: 567, done.\u001b[K\n",
            "remote: Counting objects: 100% (381/381), done.\u001b[K\n",
            "remote: Compressing objects: 100% (182/182), done.\u001b[K\n",
            "remote: Total 567 (delta 234), reused 341 (delta 198), pack-reused 186\u001b[K\n",
            "Receiving objects: 100% (567/567), 13.19 MiB | 22.62 MiB/s, done.\n",
            "Resolving deltas: 100% (313/313), done.\n"
          ]
        }
      ],
      "source": [
        "# !git clone https://github.com/maxxies/wavegan-emotion-audio.git\n",
        "!git clone https://github.com/maxxies/Audio-Synthesis-CycleGAN.git"
      ]
    },
    {
      "cell_type": "code",
      "execution_count": 2,
      "metadata": {
        "id": "Udpge-ZfKUsr"
      },
      "outputs": [],
      "source": [
        "import os\n",
        "os.chdir('Audio-Synthesis-CycleGAN')"
      ]
    },
    {
      "cell_type": "code",
      "source": [
        "# for deleting folder\n",
        "import shutil\n",
        "\n",
        "shutil.rmtree('/content/Audio-Synthesis-CycleGAN', ignore_errors=True)\n"
      ],
      "metadata": {
        "id": "a4ubNRzsgicd"
      },
      "execution_count": 6,
      "outputs": []
    },
    {
      "cell_type": "markdown",
      "metadata": {
        "id": "9_he4RLBfmfj"
      },
      "source": [
        "# **Dependencies installation**"
      ]
    },
    {
      "cell_type": "code",
      "execution_count": 3,
      "metadata": {
        "colab": {
          "base_uri": "https://localhost:8080/",
          "height": 1000
        },
        "id": "-Fh65v_Zexwv",
        "outputId": "9379b583-8f5b-4185-9579-41f7ed5945c5"
      },
      "outputs": [
        {
          "output_type": "stream",
          "name": "stdout",
          "text": [
            "Looking in indexes: https://pypi.org/simple, https://us-python.pkg.dev/colab-wheels/public/simple/\n",
            "Requirement already satisfied: librosa in /usr/local/lib/python3.10/dist-packages (from -r requirements.txt (line 1)) (0.10.0.post2)\n",
            "Collecting pyworld (from -r requirements.txt (line 2))\n",
            "  Downloading pyworld-0.3.3.tar.gz (218 kB)\n",
            "\u001b[2K     \u001b[90m━━━━━━━━━━━━━━━━━━━━━━━━━━━━━━━━━━━━━━━\u001b[0m \u001b[32m218.7/218.7 kB\u001b[0m \u001b[31m7.4 MB/s\u001b[0m eta \u001b[36m0:00:00\u001b[0m\n",
            "\u001b[?25h  Installing build dependencies ... \u001b[?25l\u001b[?25hdone\n",
            "  Getting requirements to build wheel ... \u001b[?25l\u001b[?25hdone\n",
            "  Preparing metadata (pyproject.toml) ... \u001b[?25l\u001b[?25hdone\n",
            "Requirement already satisfied: progressbar2 in /usr/local/lib/python3.10/dist-packages (from -r requirements.txt (line 3)) (4.2.0)\n",
            "Collecting argparse (from -r requirements.txt (line 4))\n",
            "  Downloading argparse-1.4.0-py2.py3-none-any.whl (23 kB)\n",
            "Collecting ffmpeg (from -r requirements.txt (line 5))\n",
            "  Downloading ffmpeg-1.4.tar.gz (5.1 kB)\n",
            "  Preparing metadata (setup.py) ... \u001b[?25l\u001b[?25hdone\n",
            "Requirement already satisfied: ipython in /usr/local/lib/python3.10/dist-packages (from -r requirements.txt (line 6)) (7.34.0)\n",
            "Collecting numpy==1.23.1 (from -r requirements.txt (line 7))\n",
            "  Downloading numpy-1.23.1-cp310-cp310-manylinux_2_17_x86_64.manylinux2014_x86_64.whl (17.0 MB)\n",
            "\u001b[2K     \u001b[90m━━━━━━━━━━━━━━━━━━━━━━━━━━━━━━━━━━━━━━━━\u001b[0m \u001b[32m17.0/17.0 MB\u001b[0m \u001b[31m37.1 MB/s\u001b[0m eta \u001b[36m0:00:00\u001b[0m\n",
            "\u001b[?25hRequirement already satisfied: audioread>=2.1.9 in /usr/local/lib/python3.10/dist-packages (from librosa->-r requirements.txt (line 1)) (3.0.0)\n",
            "Requirement already satisfied: scipy>=1.2.0 in /usr/local/lib/python3.10/dist-packages (from librosa->-r requirements.txt (line 1)) (1.10.1)\n",
            "Requirement already satisfied: scikit-learn>=0.20.0 in /usr/local/lib/python3.10/dist-packages (from librosa->-r requirements.txt (line 1)) (1.2.2)\n",
            "Requirement already satisfied: joblib>=0.14 in /usr/local/lib/python3.10/dist-packages (from librosa->-r requirements.txt (line 1)) (1.2.0)\n",
            "Requirement already satisfied: decorator>=4.3.0 in /usr/local/lib/python3.10/dist-packages (from librosa->-r requirements.txt (line 1)) (4.4.2)\n",
            "Requirement already satisfied: numba>=0.51.0 in /usr/local/lib/python3.10/dist-packages (from librosa->-r requirements.txt (line 1)) (0.56.4)\n",
            "Requirement already satisfied: soundfile>=0.12.1 in /usr/local/lib/python3.10/dist-packages (from librosa->-r requirements.txt (line 1)) (0.12.1)\n",
            "Requirement already satisfied: pooch<1.7,>=1.0 in /usr/local/lib/python3.10/dist-packages (from librosa->-r requirements.txt (line 1)) (1.6.0)\n",
            "Requirement already satisfied: soxr>=0.3.2 in /usr/local/lib/python3.10/dist-packages (from librosa->-r requirements.txt (line 1)) (0.3.5)\n",
            "Requirement already satisfied: typing-extensions>=4.1.1 in /usr/local/lib/python3.10/dist-packages (from librosa->-r requirements.txt (line 1)) (4.5.0)\n",
            "Requirement already satisfied: lazy-loader>=0.1 in /usr/local/lib/python3.10/dist-packages (from librosa->-r requirements.txt (line 1)) (0.2)\n",
            "Requirement already satisfied: msgpack>=1.0 in /usr/local/lib/python3.10/dist-packages (from librosa->-r requirements.txt (line 1)) (1.0.5)\n",
            "Requirement already satisfied: cython>=0.24 in /usr/local/lib/python3.10/dist-packages (from pyworld->-r requirements.txt (line 2)) (0.29.34)\n",
            "Requirement already satisfied: python-utils>=3.0.0 in /usr/local/lib/python3.10/dist-packages (from progressbar2->-r requirements.txt (line 3)) (3.5.2)\n",
            "Requirement already satisfied: setuptools>=18.5 in /usr/local/lib/python3.10/dist-packages (from ipython->-r requirements.txt (line 6)) (67.7.2)\n",
            "Collecting jedi>=0.16 (from ipython->-r requirements.txt (line 6))\n",
            "  Downloading jedi-0.18.2-py2.py3-none-any.whl (1.6 MB)\n",
            "\u001b[2K     \u001b[90m━━━━━━━━━━━━━━━━━━━━━━━━━━━━━━━━━━━━━━━━\u001b[0m \u001b[32m1.6/1.6 MB\u001b[0m \u001b[31m38.1 MB/s\u001b[0m eta \u001b[36m0:00:00\u001b[0m\n",
            "\u001b[?25hRequirement already satisfied: pickleshare in /usr/local/lib/python3.10/dist-packages (from ipython->-r requirements.txt (line 6)) (0.7.5)\n",
            "Requirement already satisfied: traitlets>=4.2 in /usr/local/lib/python3.10/dist-packages (from ipython->-r requirements.txt (line 6)) (5.7.1)\n",
            "Requirement already satisfied: prompt-toolkit!=3.0.0,!=3.0.1,<3.1.0,>=2.0.0 in /usr/local/lib/python3.10/dist-packages (from ipython->-r requirements.txt (line 6)) (3.0.38)\n",
            "Requirement already satisfied: pygments in /usr/local/lib/python3.10/dist-packages (from ipython->-r requirements.txt (line 6)) (2.14.0)\n",
            "Requirement already satisfied: backcall in /usr/local/lib/python3.10/dist-packages (from ipython->-r requirements.txt (line 6)) (0.2.0)\n",
            "Requirement already satisfied: matplotlib-inline in /usr/local/lib/python3.10/dist-packages (from ipython->-r requirements.txt (line 6)) (0.1.6)\n",
            "Requirement already satisfied: pexpect>4.3 in /usr/local/lib/python3.10/dist-packages (from ipython->-r requirements.txt (line 6)) (4.8.0)\n",
            "Requirement already satisfied: parso<0.9.0,>=0.8.0 in /usr/local/lib/python3.10/dist-packages (from jedi>=0.16->ipython->-r requirements.txt (line 6)) (0.8.3)\n",
            "Requirement already satisfied: llvmlite<0.40,>=0.39.0dev0 in /usr/local/lib/python3.10/dist-packages (from numba>=0.51.0->librosa->-r requirements.txt (line 1)) (0.39.1)\n",
            "Requirement already satisfied: ptyprocess>=0.5 in /usr/local/lib/python3.10/dist-packages (from pexpect>4.3->ipython->-r requirements.txt (line 6)) (0.7.0)\n",
            "Requirement already satisfied: appdirs>=1.3.0 in /usr/local/lib/python3.10/dist-packages (from pooch<1.7,>=1.0->librosa->-r requirements.txt (line 1)) (1.4.4)\n",
            "Requirement already satisfied: packaging>=20.0 in /usr/local/lib/python3.10/dist-packages (from pooch<1.7,>=1.0->librosa->-r requirements.txt (line 1)) (23.1)\n",
            "Requirement already satisfied: requests>=2.19.0 in /usr/local/lib/python3.10/dist-packages (from pooch<1.7,>=1.0->librosa->-r requirements.txt (line 1)) (2.27.1)\n",
            "Requirement already satisfied: wcwidth in /usr/local/lib/python3.10/dist-packages (from prompt-toolkit!=3.0.0,!=3.0.1,<3.1.0,>=2.0.0->ipython->-r requirements.txt (line 6)) (0.2.6)\n",
            "Requirement already satisfied: threadpoolctl>=2.0.0 in /usr/local/lib/python3.10/dist-packages (from scikit-learn>=0.20.0->librosa->-r requirements.txt (line 1)) (3.1.0)\n",
            "Requirement already satisfied: cffi>=1.0 in /usr/local/lib/python3.10/dist-packages (from soundfile>=0.12.1->librosa->-r requirements.txt (line 1)) (1.15.1)\n",
            "Requirement already satisfied: pycparser in /usr/local/lib/python3.10/dist-packages (from cffi>=1.0->soundfile>=0.12.1->librosa->-r requirements.txt (line 1)) (2.21)\n",
            "Requirement already satisfied: urllib3<1.27,>=1.21.1 in /usr/local/lib/python3.10/dist-packages (from requests>=2.19.0->pooch<1.7,>=1.0->librosa->-r requirements.txt (line 1)) (1.26.15)\n",
            "Requirement already satisfied: certifi>=2017.4.17 in /usr/local/lib/python3.10/dist-packages (from requests>=2.19.0->pooch<1.7,>=1.0->librosa->-r requirements.txt (line 1)) (2022.12.7)\n",
            "Requirement already satisfied: charset-normalizer~=2.0.0 in /usr/local/lib/python3.10/dist-packages (from requests>=2.19.0->pooch<1.7,>=1.0->librosa->-r requirements.txt (line 1)) (2.0.12)\n",
            "Requirement already satisfied: idna<4,>=2.5 in /usr/local/lib/python3.10/dist-packages (from requests>=2.19.0->pooch<1.7,>=1.0->librosa->-r requirements.txt (line 1)) (3.4)\n",
            "Building wheels for collected packages: pyworld, ffmpeg\n",
            "  Building wheel for pyworld (pyproject.toml) ... \u001b[?25l\u001b[?25hdone\n",
            "  Created wheel for pyworld: filename=pyworld-0.3.3-cp310-cp310-linux_x86_64.whl size=887696 sha256=c3c2be838774445b529ae41a0b3a5a8450fd614e560cf9532456d40bccac94b0\n",
            "  Stored in directory: /root/.cache/pip/wheels/70/50/a9/36b47c7f055bbee666a2b5718aaf85bce2152ef90f9bd10697\n",
            "  Building wheel for ffmpeg (setup.py) ... \u001b[?25l\u001b[?25hdone\n",
            "  Created wheel for ffmpeg: filename=ffmpeg-1.4-py3-none-any.whl size=6083 sha256=da8250ebfad1582c97b42040c38ca35ec15e2fd4cfa1f782e39a9d803f133efd\n",
            "  Stored in directory: /root/.cache/pip/wheels/8e/7a/69/cd6aeb83b126a7f04cbe7c9d929028dc52a6e7d525ff56003a\n",
            "Successfully built pyworld ffmpeg\n",
            "Installing collected packages: ffmpeg, argparse, numpy, jedi, pyworld\n",
            "  Attempting uninstall: numpy\n",
            "    Found existing installation: numpy 1.22.4\n",
            "    Uninstalling numpy-1.22.4:\n",
            "      Successfully uninstalled numpy-1.22.4\n",
            "Successfully installed argparse-1.4.0 ffmpeg-1.4 jedi-0.18.2 numpy-1.23.1 pyworld-0.3.3\n"
          ]
        },
        {
          "output_type": "display_data",
          "data": {
            "application/vnd.colab-display-data+json": {
              "pip_warning": {
                "packages": [
                  "argparse",
                  "numpy"
                ]
              }
            }
          },
          "metadata": {}
        }
      ],
      "source": [
        "!pip install -r requirements.txt"
      ]
    },
    {
      "cell_type": "markdown",
      "metadata": {
        "id": "EQaiA3JUSzq6"
      },
      "source": [
        "# Mount dataset"
      ]
    },
    {
      "cell_type": "code",
      "execution_count": 3,
      "metadata": {
        "colab": {
          "base_uri": "https://localhost:8080/"
        },
        "id": "qd1fLd4aMaoH",
        "outputId": "67fed4da-4eb5-4b76-a29a-e926f6bd4707"
      },
      "outputs": [
        {
          "output_type": "stream",
          "name": "stdout",
          "text": [
            "Mounted at /content/drive\n"
          ]
        }
      ],
      "source": [
        "from google.colab import drive\n",
        "drive.mount('/content/drive')"
      ]
    },
    {
      "cell_type": "markdown",
      "metadata": {
        "id": "ptaZXHJMS28E"
      },
      "source": [
        "# Train model"
      ]
    },
    {
      "cell_type": "code",
      "execution_count": null,
      "metadata": {
        "id": "zJiQVCg1LC8C"
      },
      "outputs": [],
      "source": [
        "!python3  train.py"
      ]
    },
    {
      "cell_type": "markdown",
      "metadata": {
        "id": "-T8BnEnsS6Aa"
      },
      "source": [
        "# Evaluation"
      ]
    },
    {
      "cell_type": "code",
      "execution_count": null,
      "metadata": {
        "id": "jGX3js5QTZCc"
      },
      "outputs": [],
      "source": [
        "# module imports from repository\n",
        "import utils\n",
        "import models\n",
        "import params\n",
        "import numpy as np\n",
        "import pescador\n",
        "import librosa\n",
        "import matplotlib.pyplot as plt"
      ]
    },
    {
      "cell_type": "code",
      "execution_count": null,
      "metadata": {
        "id": "BZaN2fLUdGL-"
      },
      "outputs": [],
      "source": [
        "def visualize_audio(audio_tensor, is_monphonic=False):\n",
        "    # takes a batch ,n channels , window length and plots the spectogram\n",
        "    audio = audio_tensor.detach().cpu().numpy()\n",
        "    plt.figure(figsize=(18, 50))\n",
        "    plt.subplot(10, 2, 1)\n",
        "    if is_monphonic:\n",
        "        plt.title(\"Monophonic %i\" % (1))\n",
        "        librosa.display.waveshow(audio[0], sr=16000)\n",
        "    else:\n",
        "        D = librosa.amplitude_to_db(np.abs(librosa.stft(audio[0])), ref=np.max)\n",
        "        librosa.display.specshow(D, y_axis=\"linear\")\n",
        "        plt.colorbar(format=\"%+2.0f dB\")\n",
        "        plt.title(\"Linear-frequency power spectrogram %i\" % (i))\n",
        "\n",
        "    plt.show()"
      ]
    },
    {
      "cell_type": "code",
      "execution_count": null,
      "metadata": {
        "id": "f5nsmhjxUF-L"
      },
      "outputs": [],
      "source": [
        "neutral_data = utils.WavDataLoader('/content/drive/MyDrive/Dataset/Emotional Speech Audio/Audios/neutral')\n"
      ]
    },
    {
      "cell_type": "code",
      "execution_count": null,
      "metadata": {
        "id": "VFWhaPdxU-Ht"
      },
      "outputs": [],
      "source": [
        "import torch\n",
        "\n",
        "# Load the model.\n",
        "checkpoint = torch.load(\"/content/drive/MyDrive/Dataset/Emotional Speech Audio/gan_happy_exp1.tar\")\n",
        "model_state_dict = checkpoint['generator']\n",
        "\n",
        "# Create a new instance of the model.\n",
        "model = models.WaveGANGenerator(slice_len = 65536 ,model_size=32,use_batch_norm=False,num_channels=1)\n",
        "\n",
        "# Load the state_dict into the model.\n",
        "model.load_state_dict(model_state_dict)\n",
        "\n",
        "# Set the model to evaluation mode.\n",
        "model.eval()\n"
      ]
    },
    {
      "cell_type": "code",
      "execution_count": null,
      "metadata": {
        "id": "B_DHgX9fWlF2"
      },
      "outputs": [],
      "source": [
        "# Generate random index\n",
        "random_index = np.random.randint(0,10)"
      ]
    },
    {
      "cell_type": "code",
      "execution_count": null,
      "metadata": {
        "id": "Sx5c-BIBXWYS"
      },
      "outputs": [],
      "source": [
        "# Select an audio based on index\n",
        "test_audio=next(neutral_data)[random_index]"
      ]
    },
    {
      "cell_type": "code",
      "execution_count": null,
      "metadata": {
        "id": "kIDBZcEIZu8J"
      },
      "outputs": [],
      "source": [
        "test_audio.shape"
      ]
    },
    {
      "cell_type": "code",
      "execution_count": null,
      "metadata": {
        "id": "FOpJ1t9FZNbC"
      },
      "outputs": [],
      "source": [
        "# plot selected audio\n",
        "visualize_audio(test_audio, is_monphonic=True)\n"
      ]
    },
    {
      "cell_type": "code",
      "execution_count": null,
      "metadata": {
        "id": "kCLFsE8BkHsA"
      },
      "outputs": [],
      "source": [
        "device = next(model.parameters()).device\n",
        "print(device)"
      ]
    },
    {
      "cell_type": "code",
      "execution_count": null,
      "metadata": {
        "id": "juXbAyuEwWvb"
      },
      "outputs": [],
      "source": [
        "reshaped_input = test_audio.reshape(100, 16384)\n",
        "input_tensor = torch.tensor(reshaped_input)"
      ]
    },
    {
      "cell_type": "code",
      "execution_count": null,
      "metadata": {
        "id": "OtWwhyY9Rqhy"
      },
      "outputs": [],
      "source": [
        "# Make predictions.\n",
        "with torch.no_grad():\n",
        "  predictions = model(test_audio.to(device))\n",
        "\n",
        "# Print the predictions.\n",
        "print(predictions)"
      ]
    },
    {
      "cell_type": "markdown",
      "metadata": {
        "id": "AdXfkNasZlcq"
      },
      "source": [
        "# **CycleGAN**"
      ]
    },
    {
      "cell_type": "code",
      "execution_count": 3,
      "metadata": {
        "colab": {
          "base_uri": "https://localhost:8080/"
        },
        "id": "OZ94LglUZykI",
        "outputId": "def50304-af38-45b4-e15e-e0be49441dcf"
      },
      "outputs": [
        {
          "output_type": "stream",
          "name": "stderr",
          "text": [
            "WARNING:tensorflow:From /usr/local/lib/python3.10/dist-packages/tensorflow/python/compat/v2_compat.py:107: disable_resource_variables (from tensorflow.python.ops.variable_scope) is deprecated and will be removed in a future version.\n",
            "Instructions for updating:\n",
            "non-resource variables are not supported in the long term\n"
          ]
        }
      ],
      "source": [
        "from params import train_A_dir, train_B_dir\n",
        "import train"
      ]
    },
    {
      "cell_type": "code",
      "execution_count": null,
      "metadata": {
        "id": "HdAKyYV4aACJ"
      },
      "outputs": [],
      "source": [
        "# data_A_norm,data_B_norm = train.prepare_data(train_A_dir,train_B_dir)"
      ]
    },
    {
      "cell_type": "code",
      "source": [
        "# import numpy as np\n",
        "# import pickle\n",
        "# #saving arr as a .pickle file externally, wb-write binary\n",
        "# pickle.dump(data_A_norm,open(\"arrays_1.pickle\",\"wb\"))"
      ],
      "metadata": {
        "id": "O_XUhHBVUJgG"
      },
      "execution_count": null,
      "outputs": []
    },
    {
      "cell_type": "code",
      "source": [
        "# pickle.dump(data_B_norm,open(\"arrays_2.pickle\",\"wb\"))"
      ],
      "metadata": {
        "id": "IVfJvddjXlbm"
      },
      "execution_count": null,
      "outputs": []
    },
    {
      "cell_type": "code",
      "source": [
        "import pickle\n",
        "\n",
        "#Below is to read and retrieve its contents, rb-read binary\n",
        "with open(\"/content/drive/MyDrive/Dataset/Emotional Speech Audio/arrays_1.pickle\", \"rb\") as f:\n",
        "    data_A_norm = pickle.load(f, encoding=\"latin1\")\n",
        "print(len(data_A_norm))\n",
        "#Below is to read and retrieve its contents, rb-read binary\n",
        "with open(\"/content/drive/MyDrive/Dataset/Emotional Speech Audio/arrays_2.pickle\", \"rb\") as f:\n",
        "    data_B_norm = pickle.load(f, encoding=\"latin1\")\n",
        "print(len(data_B_norm))"
      ],
      "metadata": {
        "colab": {
          "base_uri": "https://localhost:8080/"
        },
        "id": "0b62iFgrYLRz",
        "outputId": "731a9bca-7dfb-419e-dcef-11d5d9d1f2f0"
      },
      "execution_count": 5,
      "outputs": [
        {
          "output_type": "stream",
          "name": "stdout",
          "text": [
            "1303\n",
            "1523\n"
          ]
        }
      ]
    },
    {
      "cell_type": "code",
      "execution_count": null,
      "metadata": {
        "id": "4A5z6C_RKIf6",
        "colab": {
          "base_uri": "https://localhost:8080/"
        },
        "outputId": "7f7b9968-0c9f-4287-bf92-ada9ff5d0723"
      },
      "outputs": [
        {
          "output_type": "stream",
          "name": "stdout",
          "text": [
            "Epoch: 0/2\n",
            "Iteration: 0000000, Generator Learning Rate: 0.0002000, Discriminator Learning Rate: 0.0001000, Generator Loss : 30.076, Discriminator Loss : 0.587\n",
            "Iteration: 0000050, Generator Learning Rate: 0.0002000, Discriminator Learning Rate: 0.0001000, Generator Loss : 27.282, Discriminator Loss : 0.000\n"
          ]
        }
      ],
      "source": [
        "train.train(data_A_norm,data_B_norm,0)"
      ]
    },
    {
      "cell_type": "code",
      "execution_count": null,
      "metadata": {
        "colab": {
          "base_uri": "https://localhost:8080/"
        },
        "id": "l1_E2-OEXGvS",
        "outputId": "989b8172-2829-4a4c-ef5a-09bb0082ba5d"
      },
      "outputs": [
        {
          "output_type": "execute_result",
          "data": {
            "text/plain": [
              "<model.CycleGAN at 0x7f959588b9a0>"
            ]
          },
          "metadata": {},
          "execution_count": 5
        }
      ],
      "source": [
        "import model\n",
        "\n",
        "model.CycleGAN(num_features=24)"
      ]
    }
  ],
  "metadata": {
    "colab": {
      "collapsed_sections": [
        "ssbD2ck8lyhD",
        "ptaZXHJMS28E",
        "-T8BnEnsS6Aa"
      ],
      "provenance": [],
      "gpuType": "T4",
      "authorship_tag": "ABX9TyOmS+NX0lc7/McTLj/X0GXG",
      "include_colab_link": true
    },
    "kernelspec": {
      "display_name": "Python 3",
      "name": "python3"
    },
    "language_info": {
      "name": "python"
    }
  },
  "nbformat": 4,
  "nbformat_minor": 0
}