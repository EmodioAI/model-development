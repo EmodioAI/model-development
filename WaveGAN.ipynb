{
  "nbformat": 4,
  "nbformat_minor": 0,
  "metadata": {
    "colab": {
      "provenance": [],
      "authorship_tag": "ABX9TyMev4DOjqfTvPlAjE9gJHvg",
      "include_colab_link": true
    },
    "kernelspec": {
      "name": "python3",
      "display_name": "Python 3"
    },
    "language_info": {
      "name": "python"
    }
  },
  "cells": [
    {
      "cell_type": "markdown",
      "metadata": {
        "id": "view-in-github",
        "colab_type": "text"
      },
      "source": [
        "<a href=\"https://colab.research.google.com/github/EmodioAI/model-development/blob/main/WaveGAN.ipynb\" target=\"_parent\"><img src=\"https://colab.research.google.com/assets/colab-badge.svg\" alt=\"Open In Colab\"/></a>"
      ]
    },
    {
      "cell_type": "code",
      "execution_count": 1,
      "metadata": {
        "colab": {
          "base_uri": "https://localhost:8080/"
        },
        "id": "a5aMH_AtKG3l",
        "outputId": "c59a0a93-159e-4d51-82ea-9a6ccdc910b9"
      },
      "outputs": [
        {
          "output_type": "stream",
          "name": "stdout",
          "text": [
            "Cloning into 'wavegan-pytorch'...\n",
            "remote: Enumerating objects: 78, done.\u001b[K\n",
            "remote: Counting objects: 100% (10/10), done.\u001b[K\n",
            "remote: Compressing objects: 100% (8/8), done.\u001b[K\n",
            "remote: Total 78 (delta 2), reused 6 (delta 2), pack-reused 68\u001b[K\n",
            "Unpacking objects: 100% (78/78), 2.14 MiB | 3.99 MiB/s, done.\n"
          ]
        }
      ],
      "source": [
        "!git clone https://github.com/mostafaelaraby/wavegan-pytorch.git"
      ]
    },
    {
      "cell_type": "code",
      "source": [
        "import os\n",
        "os.chdir('wavegan-pytorch')"
      ],
      "metadata": {
        "id": "Udpge-ZfKUsr"
      },
      "execution_count": 2,
      "outputs": []
    },
    {
      "cell_type": "code",
      "source": [
        "!pip3  install -r requirements.txt"
      ],
      "metadata": {
        "colab": {
          "base_uri": "https://localhost:8080/"
        },
        "id": "r_4LSnZGKeAO",
        "outputId": "8bbba632-2fb8-422b-cabe-42920579e46b"
      },
      "execution_count": 3,
      "outputs": [
        {
          "output_type": "stream",
          "name": "stdout",
          "text": [
            "Looking in indexes: https://pypi.org/simple, https://us-python.pkg.dev/colab-wheels/public/simple/\n",
            "Requirement already satisfied: matplotlib>=2.2.4 in /usr/local/lib/python3.10/dist-packages (from -r requirements.txt (line 1)) (3.7.1)\n",
            "Requirement already satisfied: numpy>=1.16.3 in /usr/local/lib/python3.10/dist-packages (from -r requirements.txt (line 2)) (1.22.4)\n",
            "Requirement already satisfied: librosa>=0.6.3 in /usr/local/lib/python3.10/dist-packages (from -r requirements.txt (line 3)) (0.10.0.post2)\n",
            "Collecting pescador>=2.0.1 (from -r requirements.txt (line 4))\n",
            "  Downloading pescador-2.1.0.tar.gz (20 kB)\n",
            "  Preparing metadata (setup.py) ... \u001b[?25l\u001b[?25hdone\n",
            "Requirement already satisfied: torch>=1.1.0 in /usr/local/lib/python3.10/dist-packages (from -r requirements.txt (line 5)) (2.0.1+cu118)\n",
            "Requirement already satisfied: tqdm>=4.32.1 in /usr/local/lib/python3.10/dist-packages (from -r requirements.txt (line 6)) (4.65.0)\n",
            "Requirement already satisfied: contourpy>=1.0.1 in /usr/local/lib/python3.10/dist-packages (from matplotlib>=2.2.4->-r requirements.txt (line 1)) (1.0.7)\n",
            "Requirement already satisfied: cycler>=0.10 in /usr/local/lib/python3.10/dist-packages (from matplotlib>=2.2.4->-r requirements.txt (line 1)) (0.11.0)\n",
            "Requirement already satisfied: fonttools>=4.22.0 in /usr/local/lib/python3.10/dist-packages (from matplotlib>=2.2.4->-r requirements.txt (line 1)) (4.39.3)\n",
            "Requirement already satisfied: kiwisolver>=1.0.1 in /usr/local/lib/python3.10/dist-packages (from matplotlib>=2.2.4->-r requirements.txt (line 1)) (1.4.4)\n",
            "Requirement already satisfied: packaging>=20.0 in /usr/local/lib/python3.10/dist-packages (from matplotlib>=2.2.4->-r requirements.txt (line 1)) (23.1)\n",
            "Requirement already satisfied: pillow>=6.2.0 in /usr/local/lib/python3.10/dist-packages (from matplotlib>=2.2.4->-r requirements.txt (line 1)) (8.4.0)\n",
            "Requirement already satisfied: pyparsing>=2.3.1 in /usr/local/lib/python3.10/dist-packages (from matplotlib>=2.2.4->-r requirements.txt (line 1)) (3.0.9)\n",
            "Requirement already satisfied: python-dateutil>=2.7 in /usr/local/lib/python3.10/dist-packages (from matplotlib>=2.2.4->-r requirements.txt (line 1)) (2.8.2)\n",
            "Requirement already satisfied: audioread>=2.1.9 in /usr/local/lib/python3.10/dist-packages (from librosa>=0.6.3->-r requirements.txt (line 3)) (3.0.0)\n",
            "Requirement already satisfied: scipy>=1.2.0 in /usr/local/lib/python3.10/dist-packages (from librosa>=0.6.3->-r requirements.txt (line 3)) (1.10.1)\n",
            "Requirement already satisfied: scikit-learn>=0.20.0 in /usr/local/lib/python3.10/dist-packages (from librosa>=0.6.3->-r requirements.txt (line 3)) (1.2.2)\n",
            "Requirement already satisfied: joblib>=0.14 in /usr/local/lib/python3.10/dist-packages (from librosa>=0.6.3->-r requirements.txt (line 3)) (1.2.0)\n",
            "Requirement already satisfied: decorator>=4.3.0 in /usr/local/lib/python3.10/dist-packages (from librosa>=0.6.3->-r requirements.txt (line 3)) (4.4.2)\n",
            "Requirement already satisfied: numba>=0.51.0 in /usr/local/lib/python3.10/dist-packages (from librosa>=0.6.3->-r requirements.txt (line 3)) (0.56.4)\n",
            "Requirement already satisfied: soundfile>=0.12.1 in /usr/local/lib/python3.10/dist-packages (from librosa>=0.6.3->-r requirements.txt (line 3)) (0.12.1)\n",
            "Requirement already satisfied: pooch<1.7,>=1.0 in /usr/local/lib/python3.10/dist-packages (from librosa>=0.6.3->-r requirements.txt (line 3)) (1.6.0)\n",
            "Requirement already satisfied: soxr>=0.3.2 in /usr/local/lib/python3.10/dist-packages (from librosa>=0.6.3->-r requirements.txt (line 3)) (0.3.5)\n",
            "Requirement already satisfied: typing-extensions>=4.1.1 in /usr/local/lib/python3.10/dist-packages (from librosa>=0.6.3->-r requirements.txt (line 3)) (4.5.0)\n",
            "Requirement already satisfied: lazy-loader>=0.1 in /usr/local/lib/python3.10/dist-packages (from librosa>=0.6.3->-r requirements.txt (line 3)) (0.2)\n",
            "Requirement already satisfied: msgpack>=1.0 in /usr/local/lib/python3.10/dist-packages (from librosa>=0.6.3->-r requirements.txt (line 3)) (1.0.5)\n",
            "Requirement already satisfied: six>=1.8 in /usr/local/lib/python3.10/dist-packages (from pescador>=2.0.1->-r requirements.txt (line 4)) (1.16.0)\n",
            "Requirement already satisfied: pyzmq>=15.0 in /usr/local/lib/python3.10/dist-packages (from pescador>=2.0.1->-r requirements.txt (line 4)) (23.2.1)\n",
            "Requirement already satisfied: filelock in /usr/local/lib/python3.10/dist-packages (from torch>=1.1.0->-r requirements.txt (line 5)) (3.12.0)\n",
            "Requirement already satisfied: sympy in /usr/local/lib/python3.10/dist-packages (from torch>=1.1.0->-r requirements.txt (line 5)) (1.11.1)\n",
            "Requirement already satisfied: networkx in /usr/local/lib/python3.10/dist-packages (from torch>=1.1.0->-r requirements.txt (line 5)) (3.1)\n",
            "Requirement already satisfied: jinja2 in /usr/local/lib/python3.10/dist-packages (from torch>=1.1.0->-r requirements.txt (line 5)) (3.1.2)\n",
            "Requirement already satisfied: triton==2.0.0 in /usr/local/lib/python3.10/dist-packages (from torch>=1.1.0->-r requirements.txt (line 5)) (2.0.0)\n",
            "Requirement already satisfied: cmake in /usr/local/lib/python3.10/dist-packages (from triton==2.0.0->torch>=1.1.0->-r requirements.txt (line 5)) (3.25.2)\n",
            "Requirement already satisfied: lit in /usr/local/lib/python3.10/dist-packages (from triton==2.0.0->torch>=1.1.0->-r requirements.txt (line 5)) (16.0.5)\n",
            "Requirement already satisfied: llvmlite<0.40,>=0.39.0dev0 in /usr/local/lib/python3.10/dist-packages (from numba>=0.51.0->librosa>=0.6.3->-r requirements.txt (line 3)) (0.39.1)\n",
            "Requirement already satisfied: setuptools in /usr/local/lib/python3.10/dist-packages (from numba>=0.51.0->librosa>=0.6.3->-r requirements.txt (line 3)) (67.7.2)\n",
            "Requirement already satisfied: appdirs>=1.3.0 in /usr/local/lib/python3.10/dist-packages (from pooch<1.7,>=1.0->librosa>=0.6.3->-r requirements.txt (line 3)) (1.4.4)\n",
            "Requirement already satisfied: requests>=2.19.0 in /usr/local/lib/python3.10/dist-packages (from pooch<1.7,>=1.0->librosa>=0.6.3->-r requirements.txt (line 3)) (2.27.1)\n",
            "Requirement already satisfied: threadpoolctl>=2.0.0 in /usr/local/lib/python3.10/dist-packages (from scikit-learn>=0.20.0->librosa>=0.6.3->-r requirements.txt (line 3)) (3.1.0)\n",
            "Requirement already satisfied: cffi>=1.0 in /usr/local/lib/python3.10/dist-packages (from soundfile>=0.12.1->librosa>=0.6.3->-r requirements.txt (line 3)) (1.15.1)\n",
            "Requirement already satisfied: MarkupSafe>=2.0 in /usr/local/lib/python3.10/dist-packages (from jinja2->torch>=1.1.0->-r requirements.txt (line 5)) (2.1.2)\n",
            "Requirement already satisfied: mpmath>=0.19 in /usr/local/lib/python3.10/dist-packages (from sympy->torch>=1.1.0->-r requirements.txt (line 5)) (1.3.0)\n",
            "Requirement already satisfied: pycparser in /usr/local/lib/python3.10/dist-packages (from cffi>=1.0->soundfile>=0.12.1->librosa>=0.6.3->-r requirements.txt (line 3)) (2.21)\n",
            "Requirement already satisfied: urllib3<1.27,>=1.21.1 in /usr/local/lib/python3.10/dist-packages (from requests>=2.19.0->pooch<1.7,>=1.0->librosa>=0.6.3->-r requirements.txt (line 3)) (1.26.15)\n",
            "Requirement already satisfied: certifi>=2017.4.17 in /usr/local/lib/python3.10/dist-packages (from requests>=2.19.0->pooch<1.7,>=1.0->librosa>=0.6.3->-r requirements.txt (line 3)) (2022.12.7)\n",
            "Requirement already satisfied: charset-normalizer~=2.0.0 in /usr/local/lib/python3.10/dist-packages (from requests>=2.19.0->pooch<1.7,>=1.0->librosa>=0.6.3->-r requirements.txt (line 3)) (2.0.12)\n",
            "Requirement already satisfied: idna<4,>=2.5 in /usr/local/lib/python3.10/dist-packages (from requests>=2.19.0->pooch<1.7,>=1.0->librosa>=0.6.3->-r requirements.txt (line 3)) (3.4)\n",
            "Building wheels for collected packages: pescador\n",
            "  Building wheel for pescador (setup.py) ... \u001b[?25l\u001b[?25hdone\n",
            "  Created wheel for pescador: filename=pescador-2.1.0-py3-none-any.whl size=21087 sha256=ad0692cf689d38469df1b088d4c80708b7a0da6d77220dae349ed743934a359a\n",
            "  Stored in directory: /root/.cache/pip/wheels/f6/ad/f9/6130b2cd36727689c30c64be3cd41f8d98df8a8a224da9e19c\n",
            "Successfully built pescador\n",
            "Installing collected packages: pescador\n",
            "Successfully installed pescador-2.1.0\n"
          ]
        }
      ]
    },
    {
      "cell_type": "code",
      "source": [
        "from google.colab import drive\n",
        "drive.mount('/content/drive')"
      ],
      "metadata": {
        "colab": {
          "base_uri": "https://localhost:8080/"
        },
        "id": "qd1fLd4aMaoH",
        "outputId": "9b2fcbca-01da-49a6-d084-456a2c796e8c"
      },
      "execution_count": 7,
      "outputs": [
        {
          "output_type": "stream",
          "name": "stdout",
          "text": [
            "Mounted at /content/drive\n"
          ]
        }
      ]
    },
    {
      "cell_type": "code",
      "source": [
        "import torch\n",
        "import random\n",
        "import numpy as np\n",
        "import logging\n",
        "import os\n",
        "\n",
        "#############################\n",
        "# DataSet Path\n",
        "#############################s\n",
        "target_signals_dir = '/content/drive/MyDrive/Dataset/Emotional Speech Audio'\n",
        "#############################\n",
        "# Model Params\n",
        "#############################\n",
        "model_prefix = 'test' # name of the model to be saved\n",
        "n_iterations = 100000\n",
        "lr_g = 1e-4\n",
        "lr_d = 3e-4 # you can use with discriminator having a larger learning rate than generator instead of using n_critic updates ttur https://arxiv.org/abs/1706.08500\n",
        "beta1 = 0.5\n",
        "beta2 = 0.9\n",
        "use_batchnorm=False\n",
        "validate=True\n",
        "decay_lr = False # used to linearly deay learning rate untill reaching 0 at iteration 100,000\n",
        "generator_batch_size_factor = 1 # in some cases we might try to update the generator with double batch size used in the discriminator https://arxiv.org/abs/1706.08500\n",
        "n_critic = 1 # update generator every n_critic steps if lr_g = lr_d the n_critic's default value is 5 \n",
        "# gradient penalty regularization factor.\n",
        "p_coeff = 10\n",
        "batch_size = 10\n",
        "noise_latent_dim = 100  # size of the sampling noise\n",
        "model_capacity_size = 32    # model capacity during training can be reduced to 32 for larger window length of 2 seconds and 4 seconds\n",
        "# rate of storing validation and costs params\n",
        "store_cost_every = 300\n",
        "progress_bar_step_iter_size = 400\n",
        "#############################\n",
        "# Backup Params\n",
        "#############################\n",
        "take_backup = True\n",
        "backup_every_n_iters = 1000\n",
        "save_samples_every = 1000\n",
        "output_dir = 'output'\n",
        "if not(os.path.isdir(output_dir)):\n",
        "    os.makedirs(output_dir)\n",
        "#############################\n",
        "# Audio Reading Params\n",
        "#############################\n",
        "window_length = 65536 #[16384, 32768, 65536] in case of a longer window change model_capacity_size to 32\n",
        "sampling_rate = 16000\n",
        "normalize_audio = True \n",
        "num_channels = 1\n",
        "\n",
        "#############################\n",
        "# Logger init\n",
        "#############################\n",
        "LOGGER = logging.getLogger('wavegan')\n",
        "LOGGER.setLevel(logging.DEBUG)\n",
        "#############################\n",
        "# Torch Init and seed setting\n",
        "#############################\n",
        "cuda = torch.cuda.is_available()\n",
        "device = torch.device(\"cuda:0\" if (torch.cuda.is_available()) else \"cpu\")\n",
        "# update the seed\n",
        "manual_seed = 2019 \n",
        "random.seed(manual_seed)\n",
        "torch.manual_seed(manual_seed)\n",
        "np.random.seed(manual_seed)\n",
        "if cuda:\n",
        "    torch.cuda.manual_seed(manual_seed)\n",
        "    torch.cuda.empty_cache()"
      ],
      "metadata": {
        "id": "vW6anAnmK2n0"
      },
      "execution_count": 5,
      "outputs": []
    },
    {
      "cell_type": "code",
      "source": [
        "!python3  train.py"
      ],
      "metadata": {
        "colab": {
          "base_uri": "https://localhost:8080/"
        },
        "id": "zJiQVCg1LC8C",
        "outputId": "651d301c-d0bf-44d1-cf0b-278f64e0450c"
      },
      "execution_count": 9,
      "outputs": [
        {
          "output_type": "stream",
          "name": "stdout",
          "text": [
            "Traceback (most recent call last):\n",
            "  File \"/content/wavegan-pytorch/train.py\", line 219, in <module>\n",
            "    train_loader = WavDataLoader(os.path.join(target_signals_dir, \"train\"))\n",
            "  File \"/content/wavegan-pytorch/utils.py\", line 214, in __init__\n",
            "    self.signal_paths = get_recursive_files(folder_path, audio_extension)\n",
            "  File \"/content/wavegan-pytorch/utils.py\", line 22, in get_recursive_files\n",
            "    results = os.listdir(folderPath)\n",
            "FileNotFoundError: [Errno 2] No such file or directory: '/content/drive/MyDrive/Dataset/Emotional Speech Audio/train'\n"
          ]
        }
      ]
    },
    {
      "cell_type": "code",
      "source": [],
      "metadata": {
        "id": "cuarlme9LIpJ"
      },
      "execution_count": null,
      "outputs": []
    }
  ]
}